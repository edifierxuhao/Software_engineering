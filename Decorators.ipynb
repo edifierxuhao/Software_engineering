{
 "cells": [
  {
   "cell_type": "markdown",
   "metadata": {},
   "source": [
    "## Functions\n",
    "Before you can understand decorators, you must first understand how functions work. For our purposes, a function returns a value based on the given arguments. Here is a very simple example:"
   ]
  },
  {
   "cell_type": "code",
   "execution_count": 1,
   "metadata": {},
   "outputs": [
    {
     "data": {
      "text/plain": [
       "3"
      ]
     },
     "execution_count": 1,
     "metadata": {},
     "output_type": "execute_result"
    }
   ],
   "source": [
    "def add_one(number):\n",
    "    return number + 1\n",
    "\n",
    "add_one(2)"
   ]
  },
  {
   "cell_type": "markdown",
   "metadata": {},
   "source": [
    "In general, functions in Python may also have side effects rather than just turning an input into an output. The print() function is a basic example of this: it returns None while having the side effect of outputting something to the console. However, to understand decorators, it is enough to think about functions as something that turns given arguments into a value.\n",
    "\n",
    "Note: In functional programming, you work (almost) only with pure functions without side effects. While not a purely functional language, Python supports many of the functional programming concepts, including functions as first-class objects."
   ]
  },
  {
   "cell_type": "markdown",
   "metadata": {},
   "source": [
    "## First-Class Objects\n",
    "In Python, functions are [first-class](https://dbader.org/blog/python-first-class-functions) objects `( In Python, functions are “first-class citizens.” This means that they are on par with any other object (integers, strings, lists, modules, and so on). You can dynamically create or destroy them, pass them to other functions, return them as values, and so forth)`. This means that functions can be passed around and used as arguments, just like any other object (string, int, float, list, and so on). Consider the following three functions:"
   ]
  },
  {
   "cell_type": "code",
   "execution_count": 2,
   "metadata": {},
   "outputs": [],
   "source": [
    "def say_hello(name):\n",
    "    return f\"Hello {name}\"\n",
    "\n",
    "def be_awesome(name):\n",
    "    return f\"Yo {name}, together we are the awesomest!\"\n",
    "\n",
    "def greet_bob(greeter_func):\n",
    "    return greeter_func(\"Bob\")"
   ]
  },
  {
   "cell_type": "markdown",
   "metadata": {},
   "source": [
    "Here, say_hello() and be_awesome() are regular functions that expect a name given as a string. The greet_bob() function however, expects a function as its argument. We can, for instance, pass it the say_hello() or the be_awesome() function:"
   ]
  },
  {
   "cell_type": "code",
   "execution_count": 5,
   "metadata": {},
   "outputs": [
    {
     "name": "stdout",
     "output_type": "stream",
     "text": [
      "Hello Bob\n",
      "Yo Bob, together we are the awesomest!\n"
     ]
    }
   ],
   "source": [
    "print(greet_bob(say_hello))\n",
    "\n",
    "print(greet_bob(be_awesome))\n"
   ]
  },
  {
   "cell_type": "markdown",
   "metadata": {},
   "source": [
    "Note that greet_bob(say_hello) refers to two functions, but in different ways: greet_bob() and say_hello. The say_hello function is named without parentheses. This means that only a reference to the function is passed. The function is not executed. The greet_bob() function, on the other hand, is written with parentheses, so it will be called as usual."
   ]
  },
  {
   "cell_type": "markdown",
   "metadata": {},
   "source": [
    "******\n",
    "## Inner Functions\n",
    "It’s possible to define functions inside other functions. Such functions are called [inner functions](https://realpython.com/inner-functions-what-are-they-good-for/). Here’s an example of a function with two inner functions:"
   ]
  },
  {
   "cell_type": "code",
   "execution_count": null,
   "metadata": {},
   "outputs": [],
   "source": [
    "# Encapsulation\n",
    "#You use inner functions to protect them from everything happening outside of the function, \n",
    "# bmeaning that they are hidden from the global scope.\n",
    "\n",
    "def factorial(number):\n",
    "\n",
    "    # Error handling\n",
    "    if not isinstance(number, int):\n",
    "        raise TypeError(\"Sorry. 'number' must be an integer.\")\n",
    "    if not number >= 0:\n",
    "        raise ValueError(\"Sorry. 'number' must be zero or positive.\")\n",
    "\n",
    "    def inner_factorial(number):\n",
    "        if number <= 1:\n",
    "            return 1\n",
    "        return number*inner_factorial(number-1)\n",
    "    return inner_factorial(number)\n",
    "\n",
    "# Call the outer function.\n",
    "print(factorial(4))\n",
    "\n",
    "# One main advantage of using this design pattern is that by performing all argument \n",
    "# checking in the outer function, you can safely skip error checking altogether in the \n",
    "# inner function."
   ]
  },
  {
   "cell_type": "code",
   "execution_count": null,
   "metadata": {},
   "outputs": [],
   "source": [
    "# Keepin’ it DRY\n",
    "# Perhaps you have a giant function that performs the same chunk of code in numerous \n",
    "# places. For example, you might write a function that processes a file, and you want \n",
    "# to accept either an open file object or a file name:\n",
    "\n",
    "def process(file_name):\n",
    "    def do_stuff(file_process):\n",
    "        for line in file_process:\n",
    "            print(line)\n",
    "    if isinstance(file_name, str):\n",
    "        with open(file_name, 'r') as f:\n",
    "            do_stuff(f)\n",
    "    else:\n",
    "        do_stuff(file_name)\n",
    "\n",
    "\n"
   ]
  },
  {
   "cell_type": "code",
   "execution_count": null,
   "metadata": {},
   "outputs": [],
   "source": [
    "# Closures and Factory Functions\n",
    "# A closure simply causes the inner function to remember the state of its environment when \n",
    "# called. Beginners often think that a closure is the inner function, but it’s really \n",
    "# caused by the inner function. The closure “closes” the local variable on the stack, and \n",
    "# this stays around after the stack creation has finished executing.\n",
    "\n",
    "def generate_power(number):\n",
    "    \"\"\"\n",
    "    Examples of use:\n",
    "\n",
    "    >>> raise_two = generate_power(2)\n",
    "    >>> raise_three = generate_power(3)\n",
    "    >>> print(raise_two(7))\n",
    "    128\n",
    "    >>> print(raise_three(5))\n",
    "    243\n",
    "    \"\"\"\n",
    "\n",
    "    # Define the inner function ...\n",
    "    def nth_power(power):\n",
    "        return number ** power\n",
    "    # ... that is returned by the factory function.\n",
    "\n",
    "    return nth_power\n",
    "\n",
    "\n",
    "\n"
   ]
  },
  {
   "cell_type": "markdown",
   "metadata": {},
   "source": [
    "#### What’s Happening in the Example\n",
    "Let’s take a look at what is going on in that example:\n",
    "\n",
    "1. generate_power() is a factory function, which simply means that it creates a new function each time it is called and then returns the newly created function. Thus, raise_two() and raise_three() are the newly created functions.\n",
    "2. What does this new, inner function do? It takes a single argument, power, and returns number**power.\n",
    "3. Where does the inner function get the value of number from? This is where the closure comes into play: nth_power() gets the value of power from the outer function, the factory function. Let’s step through this process:\n",
    "\n",
    "- Call the outer function: generate_power(2).\n",
    "- Build nth_power(), which takes a single argument power.\n",
    "- Take a snapshot of the state of nth_power(), which includes number=2.\n",
    "- Pass that snapshot into generate_power().\n",
    "- Return nth_power().\n",
    "\n",
    "To put it another way, the closure “initializes” the number bar in nth_power() and then returns it. Now, whenever you call that newly returned function, it will always see its own private snapshot that includes number=2.\n",
    "\n",
    "#### Conclusion\n",
    "The use of closures and factory functions is the most common and powerful use for inner functions. In most cases, when you see a decorated function, the decorator is a factory function that takes a function as argument and returns a new function that includes the old function inside the closure. Stop. Take a deep breath. Grab a coffee. Read that again.\n",
    "\n",
    "To put it another way, a decorator is just syntactic sugar for implementing the process outlined in the generate_power() example.\n",
    "\n",
    "I’ll leave you with a final example:"
   ]
  },
  {
   "cell_type": "code",
   "execution_count": null,
   "metadata": {},
   "outputs": [],
   "source": [
    "def generate_power(exponent):\n",
    "    def decorator(f):\n",
    "        def inner(*args):\n",
    "            result = f(*args)\n",
    "            return exponent**result\n",
    "        return inner\n",
    "    return decorator\n",
    "\n",
    "\n",
    "@generate_power(2)\n",
    "def raise_two(n):\n",
    "    return n\n",
    "\n",
    "print(raise_two(7))\n",
    "\n",
    "\n",
    "@generate_power(3)\n",
    "def raise_three(n):\n",
    "    return n\n",
    "\n",
    "print(raise_two(5))"
   ]
  },
  {
   "cell_type": "markdown",
   "metadata": {},
   "source": [
    "******\n",
    "continue to Decorators\n",
    "\n",
    "It’s possible to define functions inside other functions. Such functions are called inner functions. Here’s an example of a function with two inner functions:\n"
   ]
  },
  {
   "cell_type": "code",
   "execution_count": 6,
   "metadata": {},
   "outputs": [],
   "source": [
    "def parent():\n",
    "    print(\"Printing from the parent() function\")\n",
    "\n",
    "    def first_child():\n",
    "        print(\"Printing from the first_child() function\")\n",
    "\n",
    "    def second_child():\n",
    "        print(\"Printing from the second_child() function\")\n",
    "\n",
    "    second_child()\n",
    "    first_child()"
   ]
  },
  {
   "cell_type": "code",
   "execution_count": 7,
   "metadata": {},
   "outputs": [
    {
     "name": "stdout",
     "output_type": "stream",
     "text": [
      "Printing from the parent() function\n",
      "Printing from the second_child() function\n",
      "Printing from the first_child() function\n"
     ]
    }
   ],
   "source": [
    "parent()"
   ]
  },
  {
   "cell_type": "markdown",
   "metadata": {},
   "source": [
    "Note that the order in which the inner functions are defined does not matter. Like with any other functions, the printing only happens when the inner functions are executed.\n",
    "\n",
    "Furthermore, the inner functions are not defined until the parent function is called. They are locally scoped to parent(): they only exist inside the parent() function as local variables. Try calling first_child(). You should get an error:"
   ]
  },
  {
   "cell_type": "code",
   "execution_count": 8,
   "metadata": {},
   "outputs": [
    {
     "ename": "NameError",
     "evalue": "name 'second_child' is not defined",
     "output_type": "error",
     "traceback": [
      "\u001b[0;31m---------------------------------------------------------------------------\u001b[0m",
      "\u001b[0;31mNameError\u001b[0m                                 Traceback (most recent call last)",
      "\u001b[0;32m<ipython-input-8-afb29f492a83>\u001b[0m in \u001b[0;36m<module>\u001b[0;34m\u001b[0m\n\u001b[0;32m----> 1\u001b[0;31m \u001b[0msecond_child\u001b[0m\u001b[0;34m(\u001b[0m\u001b[0;34m)\u001b[0m\u001b[0;34m\u001b[0m\u001b[0;34m\u001b[0m\u001b[0m\n\u001b[0m",
      "\u001b[0;31mNameError\u001b[0m: name 'second_child' is not defined"
     ]
    }
   ],
   "source": [
    "second_child()"
   ]
  },
  {
   "cell_type": "markdown",
   "metadata": {},
   "source": [
    "Whenever you call parent(), the inner functions first_child() and second_child() are also called. But because of their local scope, they aren’t available outside of the parent() function.\n",
    "## Returning Functions From Functions\n",
    "Python also allows you to use functions as return values. The following example returns one of the inner functions from the outer parent() function:"
   ]
  },
  {
   "cell_type": "code",
   "execution_count": 9,
   "metadata": {},
   "outputs": [],
   "source": [
    "def parent(num):\n",
    "    def first_child():\n",
    "        return \"Hi, I am Emma\"\n",
    "\n",
    "    def second_child():\n",
    "        return \"Call me Liam\"\n",
    "\n",
    "    if num == 1:\n",
    "        return first_child\n",
    "    else:\n",
    "        return second_child"
   ]
  },
  {
   "cell_type": "markdown",
   "metadata": {},
   "source": [
    "Note that you are returning first_child without the parentheses. Recall that this means that you are returning a reference to the function first_child. In contrast first_child() with parentheses refers to the result of evaluating the function. This can be seen in the following example:"
   ]
  },
  {
   "cell_type": "code",
   "execution_count": 10,
   "metadata": {},
   "outputs": [],
   "source": [
    "first = parent(1)\n",
    "second = parent(2)"
   ]
  },
  {
   "cell_type": "code",
   "execution_count": 13,
   "metadata": {},
   "outputs": [
    {
     "data": {
      "text/plain": [
       "<function __main__.parent.<locals>.first_child()>"
      ]
     },
     "execution_count": 13,
     "metadata": {},
     "output_type": "execute_result"
    }
   ],
   "source": [
    "first"
   ]
  },
  {
   "cell_type": "markdown",
   "metadata": {},
   "source": [
    "The somewhat cryptic output simply means that the first variable refers to the local first_child() function inside of parent(), while second points to second_child().\n",
    "\n",
    "You can now use first and second as if they are regular functions, even though the functions they point to can’t be accessed directly:"
   ]
  },
  {
   "cell_type": "code",
   "execution_count": 15,
   "metadata": {},
   "outputs": [
    {
     "data": {
      "text/plain": [
       "'Call me Liam'"
      ]
     },
     "execution_count": 15,
     "metadata": {},
     "output_type": "execute_result"
    }
   ],
   "source": [
    "second()"
   ]
  },
  {
   "cell_type": "markdown",
   "metadata": {},
   "source": [
    "Finally, note that in the earlier example you executed the inner functions within the parent function, for instance first_child(). However, in this last example, you did not add parentheses to the inner functions—first_child—upon returning. That way, you got a reference to each function that you could call in the future. Make sense?\n",
    "\n",
    "## Simple Decorators\n",
    "Now that you’ve seen that functions are just like any other object in Python, you’re ready to move on and see the magical beast that is the Python decorator. Let’s start with an example:"
   ]
  },
  {
   "cell_type": "code",
   "execution_count": 16,
   "metadata": {},
   "outputs": [],
   "source": [
    "def my_decorator(func):\n",
    "    def wrapper():\n",
    "        print(\"Something is happening before the function is called.\")\n",
    "        func()\n",
    "        print(\"Something is happening after the function is called.\")\n",
    "    return wrapper\n",
    "\n",
    "def say_whee():\n",
    "    print(\"Whee!\")\n",
    "\n",
    "say_whee = my_decorator(say_whee)"
   ]
  },
  {
   "cell_type": "code",
   "execution_count": 20,
   "metadata": {},
   "outputs": [
    {
     "name": "stdout",
     "output_type": "stream",
     "text": [
      "<function my_decorator.<locals>.wrapper at 0x1116efd40>\n",
      "Something is happening before the function is called.\n",
      "Whee!\n",
      "Something is happening after the function is called.\n"
     ]
    }
   ],
   "source": [
    "print(say_whee)\n",
    "say_whee()"
   ]
  },
  {
   "cell_type": "markdown",
   "metadata": {},
   "source": [
    "In effect, the name say_whee now points to the wrapper() inner function. Remember that you return wrapper as a function when you call my_decorator(say_whee):\n",
    "\n",
    "However, wrapper() has a reference to the original say_whee() as func, and calls that function between the two calls to print().\n",
    "\n",
    "Put simply: **decorators wrap a function, modifying its behavior.**\n",
    "\n",
    "## Syntactic Sugar!\n",
    "The way you decorated say_whee() above is a little clunky. First of all, you end up typing the name say_whee three times. In addition, the decoration gets a bit hidden away below the definition of the function.\n",
    "\n",
    "Instead, Python allows you to use decorators in a simpler way with the @ symbol, sometimes called the “pie” syntax. The following example does the exact same thing as the first decorator example:"
   ]
  },
  {
   "cell_type": "code",
   "execution_count": 24,
   "metadata": {},
   "outputs": [],
   "source": [
    "def my_decorator(func):\n",
    "    def wrapper():\n",
    "        print(\"Something is happening before the function is called.\")\n",
    "        func()\n",
    "        print(\"Something is happening after the function is called.\")\n",
    "    return wrapper\n",
    "\n",
    "@my_decorator\n",
    "def say_whee(astring):\n",
    "    print(\"Whee!\"+astring)\n",
    "    \n",
    "# @my_decorator is just an easier way of saying say_whee = my_decorator(say_whee)"
   ]
  },
  {
   "cell_type": "markdown",
   "metadata": {},
   "source": [
    "## Reusing Decorators\n",
    "Recall that a decorator is just a regular Python function. All the usual tools for easy reusability are available. Let’s move the decorator to its own module that can be used in many other functions.\n",
    "\n",
    "Create a file called decorators.py with the following content:"
   ]
  },
  {
   "cell_type": "code",
   "execution_count": 26,
   "metadata": {},
   "outputs": [],
   "source": [
    "def do_twice(func):\n",
    "    def wrapper_do_twice():\n",
    "        func()\n",
    "        func()\n",
    "    return wrapper_do_twice"
   ]
  },
  {
   "cell_type": "code",
   "execution_count": 27,
   "metadata": {},
   "outputs": [],
   "source": [
    "@do_twice\n",
    "def say_whee():\n",
    "    print(\"Whee!\")"
   ]
  },
  {
   "cell_type": "code",
   "execution_count": 29,
   "metadata": {},
   "outputs": [
    {
     "name": "stdout",
     "output_type": "stream",
     "text": [
      "Whee!\n",
      "Whee!\n"
     ]
    }
   ],
   "source": [
    "say_whee()"
   ]
  },
  {
   "cell_type": "markdown",
   "metadata": {},
   "source": [
    "## Decorating Functions With Arguments\n",
    "Say that you have a function that accepts some arguments. Can you still decorate it? Let’s try:"
   ]
  },
  {
   "cell_type": "code",
   "execution_count": 35,
   "metadata": {},
   "outputs": [],
   "source": [
    "@do_twice\n",
    "def greet(name):\n",
    "    print(f\"Hello {name}\")"
   ]
  },
  {
   "cell_type": "code",
   "execution_count": 31,
   "metadata": {},
   "outputs": [
    {
     "ename": "TypeError",
     "evalue": "wrapper_do_twice() takes 0 positional arguments but 1 was given",
     "output_type": "error",
     "traceback": [
      "\u001b[0;31m---------------------------------------------------------------------------\u001b[0m",
      "\u001b[0;31mTypeError\u001b[0m                                 Traceback (most recent call last)",
      "\u001b[0;32m<ipython-input-31-ae6ff14ccb4e>\u001b[0m in \u001b[0;36m<module>\u001b[0;34m\u001b[0m\n\u001b[1;32m      1\u001b[0m \u001b[0;31m# Unfortunately, running this code raises an error:\u001b[0m\u001b[0;34m\u001b[0m\u001b[0;34m\u001b[0m\u001b[0;34m\u001b[0m\u001b[0m\n\u001b[0;32m----> 2\u001b[0;31m \u001b[0mgreet\u001b[0m\u001b[0;34m(\u001b[0m\u001b[0;34m\"World\"\u001b[0m\u001b[0;34m)\u001b[0m\u001b[0;34m\u001b[0m\u001b[0;34m\u001b[0m\u001b[0m\n\u001b[0m",
      "\u001b[0;31mTypeError\u001b[0m: wrapper_do_twice() takes 0 positional arguments but 1 was given"
     ]
    }
   ],
   "source": [
    "# Unfortunately, running this code raises an error:\n",
    "greet(\"World\")"
   ]
  },
  {
   "cell_type": "markdown",
   "metadata": {},
   "source": [
    "The problem is that the inner function wrapper_do_twice() does not take any arguments, but name=\"World\" was passed to it. You could fix this by letting wrapper_do_twice() accept one argument, but then it would not work for the say_whee() function you created earlier.\n",
    "\n",
    "The solution is to use `*args` and `**kwargs` in the inner wrapper function. Then it will accept an arbitrary number of positional and keyword arguments. Rewrite decorators.py as follows:"
   ]
  },
  {
   "cell_type": "code",
   "execution_count": 32,
   "metadata": {},
   "outputs": [],
   "source": [
    "def do_twice(func):\n",
    "    def wrapper_do_twice(*args, **kwargs):\n",
    "        func(*args, **kwargs)\n",
    "        func(*args, **kwargs)\n",
    "    return wrapper_do_twice"
   ]
  },
  {
   "cell_type": "markdown",
   "metadata": {},
   "source": [
    "The wrapper_do_twice() inner function now accepts any number of arguments and passes them on to the function it decorates. Now both your say_whee() and greet() examples works:"
   ]
  },
  {
   "cell_type": "code",
   "execution_count": 33,
   "metadata": {},
   "outputs": [
    {
     "name": "stdout",
     "output_type": "stream",
     "text": [
      "Whee!\n",
      "Whee!\n"
     ]
    }
   ],
   "source": [
    "say_whee()"
   ]
  },
  {
   "cell_type": "code",
   "execution_count": 36,
   "metadata": {},
   "outputs": [
    {
     "name": "stdout",
     "output_type": "stream",
     "text": [
      "Hello World\n",
      "Hello World\n"
     ]
    }
   ],
   "source": [
    "greet(\"World\")"
   ]
  },
  {
   "cell_type": "markdown",
   "metadata": {},
   "source": [
    "## Returning Values From Decorated Functions\n",
    "What happens to the return value of decorated functions? Well, that’s up to the decorator to decide. Let’s say you decorate a simple function as follows:"
   ]
  },
  {
   "cell_type": "code",
   "execution_count": 37,
   "metadata": {},
   "outputs": [],
   "source": [
    "def do_twice(func):\n",
    "    def wrapper_do_twice(*args, **kwargs):\n",
    "        func(*args, **kwargs)\n",
    "        func(*args, **kwargs)\n",
    "    return wrapper_do_twice\n",
    "\n",
    "@do_twice\n",
    "def return_greeting(name):\n",
    "    print(\"Creating greeting\")\n",
    "    return f\"Hi {name}\""
   ]
  },
  {
   "cell_type": "code",
   "execution_count": 39,
   "metadata": {},
   "outputs": [
    {
     "name": "stdout",
     "output_type": "stream",
     "text": [
      "Creating greeting\n",
      "Creating greeting\n",
      "None\n"
     ]
    }
   ],
   "source": [
    "hi_adam = return_greeting(\"Adam\")\n",
    "print(hi_adam)"
   ]
  },
  {
   "cell_type": "markdown",
   "metadata": {},
   "source": [
    "Oops, your decorator ate the return value from the function.\n",
    "\n",
    "Because the do_twice_wrapper() doesn’t explicitly return a value, the call return_greeting(\"Adam\") ended up returning None.\n",
    "\n",
    "To fix this, you need to **make sure the wrapper function returns the return value of the decorated function**. Change your decorators.py file:"
   ]
  },
  {
   "cell_type": "code",
   "execution_count": 41,
   "metadata": {},
   "outputs": [],
   "source": [
    "def do_twice(func):\n",
    "    def wrapper_do_twice(*args, **kwargs):\n",
    "        func(*args, **kwargs) # run the first time\n",
    "        return func(*args, **kwargs) # run the second time, and return\n",
    "    return wrapper_do_twice\n",
    "\n",
    "@do_twice\n",
    "def return_greeting(name):\n",
    "    print(\"Creating greeting\")\n",
    "    return f\"Hi {name}\""
   ]
  },
  {
   "cell_type": "code",
   "execution_count": 42,
   "metadata": {},
   "outputs": [
    {
     "name": "stdout",
     "output_type": "stream",
     "text": [
      "Creating greeting\n",
      "Creating greeting\n",
      "Hi Adam\n"
     ]
    }
   ],
   "source": [
    "hi_adam = return_greeting(\"Adam\")\n",
    "print(hi_adam)"
   ]
  },
  {
   "cell_type": "markdown",
   "metadata": {},
   "source": [
    "## Who Are You, Really?\n",
    "A great convenience when working with Python, especially in the interactive shell, is its powerful introspection ability. Introspection is the ability of an object to know about its own attributes at runtime. For instance, a function knows its own name and documentation:"
   ]
  },
  {
   "cell_type": "code",
   "execution_count": 43,
   "metadata": {},
   "outputs": [
    {
     "data": {
      "text/plain": [
       "<function print>"
      ]
     },
     "execution_count": 43,
     "metadata": {},
     "output_type": "execute_result"
    }
   ],
   "source": [
    "print"
   ]
  },
  {
   "cell_type": "code",
   "execution_count": 44,
   "metadata": {},
   "outputs": [
    {
     "data": {
      "text/plain": [
       "'print'"
      ]
     },
     "execution_count": 44,
     "metadata": {},
     "output_type": "execute_result"
    }
   ],
   "source": [
    "print.__name__"
   ]
  },
  {
   "cell_type": "code",
   "execution_count": 45,
   "metadata": {},
   "outputs": [
    {
     "name": "stdout",
     "output_type": "stream",
     "text": [
      "Help on built-in function print in module builtins:\n",
      "\n",
      "print(...)\n",
      "    print(value, ..., sep=' ', end='\\n', file=sys.stdout, flush=False)\n",
      "    \n",
      "    Prints the values to a stream, or to sys.stdout by default.\n",
      "    Optional keyword arguments:\n",
      "    file:  a file-like object (stream); defaults to the current sys.stdout.\n",
      "    sep:   string inserted between values, default a space.\n",
      "    end:   string appended after the last value, default a newline.\n",
      "    flush: whether to forcibly flush the stream.\n",
      "\n"
     ]
    }
   ],
   "source": [
    "help(print)"
   ]
  },
  {
   "cell_type": "code",
   "execution_count": 50,
   "metadata": {},
   "outputs": [
    {
     "data": {
      "text/plain": [
       "'wrapper_do_twice'"
      ]
     },
     "execution_count": 50,
     "metadata": {},
     "output_type": "execute_result"
    }
   ],
   "source": [
    "# The introspection works for functions you define yourself as well:\n",
    "say_whee.__name__"
   ]
  },
  {
   "cell_type": "code",
   "execution_count": 51,
   "metadata": {},
   "outputs": [
    {
     "name": "stdout",
     "output_type": "stream",
     "text": [
      "Help on function wrapper_do_twice in module __main__:\n",
      "\n",
      "wrapper_do_twice()\n",
      "\n"
     ]
    }
   ],
   "source": [
    "help(say_whee)"
   ]
  },
  {
   "cell_type": "markdown",
   "metadata": {},
   "source": [
    "However, after being decorated, say_whee() has gotten very confused about its identity. It now reports being the wrapper_do_twice() inner function inside the do_twice() decorator. Although technically true, this is not very useful information.\n",
    "\n",
    "To fix this, decorators should use the [@functools.wraps](https://docs.python.org/3/library/functools.html#functools.wraps) decorator, which will preserve information about the original function. Update decorators.py again:"
   ]
  },
  {
   "cell_type": "code",
   "execution_count": 55,
   "metadata": {},
   "outputs": [],
   "source": [
    "import functools\n",
    "\n",
    "def do_twice(func):\n",
    "    @functools.wraps(func)\n",
    "    def wrapper_do_twice(*args, **kwargs):\n",
    "        func(*args, **kwargs)\n",
    "        return func(*args, **kwargs)\n",
    "    return wrapper_do_twice\n",
    "\n",
    "@do_twice\n",
    "def say_whee():\n",
    "    print(\"Whee!\")\n"
   ]
  },
  {
   "cell_type": "code",
   "execution_count": 56,
   "metadata": {},
   "outputs": [
    {
     "data": {
      "text/plain": [
       "'say_whee'"
      ]
     },
     "execution_count": 56,
     "metadata": {},
     "output_type": "execute_result"
    }
   ],
   "source": [
    "say_whee.__name__"
   ]
  },
  {
   "cell_type": "markdown",
   "metadata": {},
   "source": [
    "Technical Detail: The @functools.wraps decorator uses the function functools.update_wrapper() to update special attributes like` __name__` and `__doc__` that are used in the introspection."
   ]
  },
  {
   "cell_type": "markdown",
   "metadata": {},
   "source": [
    "## A Few Real World Examples\n",
    "Let’s look at a few more useful examples of decorators. You’ll notice that they’ll mainly follow the same pattern that you’ve learned so far:"
   ]
  },
  {
   "cell_type": "code",
   "execution_count": 57,
   "metadata": {},
   "outputs": [],
   "source": [
    "import functools\n",
    "\n",
    "def decorator(func):\n",
    "    @functools.wraps(func)\n",
    "    def wrapper_decorator(*args, **kwargs):\n",
    "        # Do something before\n",
    "        value = func(*args, **kwargs)\n",
    "        # Do something after\n",
    "        return value\n",
    "    return wrapper_decorator\n",
    "\n",
    "#This formula is a good boilerplate template for building more complex decorators."
   ]
  },
  {
   "cell_type": "markdown",
   "metadata": {},
   "source": [
    "## Timing Functions\n",
    "Let’s start by creating a @timer decorator. It will measure the time a function takes to execute and print the duration to the console. Here’s the code:"
   ]
  },
  {
   "cell_type": "code",
   "execution_count": 71,
   "metadata": {},
   "outputs": [],
   "source": [
    "import functools\n",
    "import time\n",
    "\n",
    "def timer(func):\n",
    "    \"\"\"Print the runtime of the decorated function\"\"\"\n",
    "    @functools.wraps(func)\n",
    "    def wrapper_timer(*args, **kwargs):\n",
    "        start_time = time.perf_counter()    # the time just before the function starts\n",
    "        value = func(*args, **kwargs)\n",
    "        end_time = time.perf_counter()      # the time just after the function finishes\n",
    "        run_time = end_time - start_time    # The time the function takes\n",
    "        print(f\"Finished {func.__name__!r} in {run_time:.4f} secs\")\n",
    "        return value\n",
    "    return wrapper_timer\n",
    "\n",
    "@timer\n",
    "def waste_some_time(num_times):\n",
    "    for _ in range(num_times):\n",
    "        a = sum([i**2 for i in range(10000)])\n",
    "    return a"
   ]
  },
  {
   "cell_type": "code",
   "execution_count": 72,
   "metadata": {},
   "outputs": [
    {
     "name": "stdout",
     "output_type": "stream",
     "text": [
      "Finished 'waste_some_time' in 0.0027 secs\n"
     ]
    }
   ],
   "source": [
    "runtime = waste_some_time(1)"
   ]
  },
  {
   "cell_type": "code",
   "execution_count": 61,
   "metadata": {},
   "outputs": [
    {
     "name": "stdout",
     "output_type": "stream",
     "text": [
      "Finished 'waste_some_time' in 2.6093 secs\n"
     ]
    }
   ],
   "source": [
    "waste_some_time(999)"
   ]
  },
  {
   "cell_type": "code",
   "execution_count": 73,
   "metadata": {},
   "outputs": [
    {
     "name": "stdout",
     "output_type": "stream",
     "text": [
      "333283335000\n"
     ]
    }
   ],
   "source": [
    "print(runtime)"
   ]
  },
  {
   "cell_type": "markdown",
   "metadata": {},
   "source": [
    "## Debugging Code\n",
    "The following @debug decorator will print the arguments a function is called with as well as its return value every time the function is called:"
   ]
  },
  {
   "cell_type": "code",
   "execution_count": 74,
   "metadata": {},
   "outputs": [],
   "source": [
    "import functools\n",
    "\n",
    "def debug(func):\n",
    "    \"\"\"Print the function signature and return value\"\"\"\n",
    "    @functools.wraps(func)\n",
    "    def wrapper_debug(*args, **kwargs):\n",
    "        args_repr = [repr(a) for a in args]                      \n",
    "        # Create a list of the positional arguments. \n",
    "        # Use repr() to get a nice string representing each argument.\n",
    "        \n",
    "        kwargs_repr = [f\"{k}={v!r}\" for k, v in kwargs.items()]  \n",
    "        # Create a list of the positional arguments. \n",
    "        # Use repr() to get a nice string representing each argument.\n",
    "        # as key=value where the !r specifier means that repr() is used to \n",
    "        # represent the value.\n",
    "        \n",
    "        signature = \", \".join(args_repr + kwargs_repr)           \n",
    "        # The lists of positional and keyword arguments is joined together \n",
    "        # to one signature string with each argument separated by a comma.\n",
    "        \n",
    "        print(f\"Calling {func.__name__}({signature})\")\n",
    "        value = func(*args, **kwargs)\n",
    "        print(f\"{func.__name__!r} returned {value!r}\")           \n",
    "        # The return value is printed after the function is executed.\n",
    "        \n",
    "        return value\n",
    "    return wrapper_debug"
   ]
  },
  {
   "cell_type": "code",
   "execution_count": 75,
   "metadata": {},
   "outputs": [],
   "source": [
    "@debug\n",
    "def make_greeting(name, age=None):\n",
    "    if age is None:\n",
    "        return f\"Howdy {name}!\"\n",
    "    else:\n",
    "        return f\"Whoa {name}! {age} already, you are growing up!\""
   ]
  },
  {
   "cell_type": "code",
   "execution_count": 76,
   "metadata": {},
   "outputs": [
    {
     "name": "stdout",
     "output_type": "stream",
     "text": [
      "Calling make_greeting('Benjamin')\n",
      "'make_greeting' returned 'Howdy Benjamin!'\n"
     ]
    },
    {
     "data": {
      "text/plain": [
       "'Howdy Benjamin!'"
      ]
     },
     "execution_count": 76,
     "metadata": {},
     "output_type": "execute_result"
    }
   ],
   "source": [
    "make_greeting(\"Benjamin\")"
   ]
  },
  {
   "cell_type": "code",
   "execution_count": 77,
   "metadata": {},
   "outputs": [
    {
     "name": "stdout",
     "output_type": "stream",
     "text": [
      "Calling make_greeting('Richard', age=112)\n",
      "'make_greeting' returned 'Whoa Richard! 112 already, you are growing up!'\n"
     ]
    },
    {
     "data": {
      "text/plain": [
       "'Whoa Richard! 112 already, you are growing up!'"
      ]
     },
     "execution_count": 77,
     "metadata": {},
     "output_type": "execute_result"
    }
   ],
   "source": [
    "make_greeting(\"Richard\", age=112)"
   ]
  },
  {
   "cell_type": "code",
   "execution_count": 78,
   "metadata": {},
   "outputs": [
    {
     "name": "stdout",
     "output_type": "stream",
     "text": [
      "Calling make_greeting(name='Dorrisile', age=116)\n",
      "'make_greeting' returned 'Whoa Dorrisile! 116 already, you are growing up!'\n"
     ]
    },
    {
     "data": {
      "text/plain": [
       "'Whoa Dorrisile! 116 already, you are growing up!'"
      ]
     },
     "execution_count": 78,
     "metadata": {},
     "output_type": "execute_result"
    }
   ],
   "source": [
    "make_greeting(name=\"Dorrisile\", age=116)"
   ]
  },
  {
   "cell_type": "markdown",
   "metadata": {},
   "source": [
    "This example might not seem immediately useful since the @debug decorator just repeats what you just wrote. It’s more powerful when applied to small convenience functions that you don’t call directly yourself."
   ]
  },
  {
   "cell_type": "code",
   "execution_count": 1,
   "metadata": {},
   "outputs": [],
   "source": [
    "import math\n",
    "import functools\n",
    "\n",
    "def debug(func):\n",
    "    \"\"\"Print the function signature and return value\"\"\"\n",
    "    @functools.wraps(func)\n",
    "    def wrapper_debug(*args, **kwargs):\n",
    "        args_repr = [repr(a) for a in args]                      \n",
    "        kwargs_repr = [f\"{k}={v!r}\" for k, v in kwargs.items()]  \n",
    "        signature = \", \".join(args_repr + kwargs_repr)           \n",
    "        print(f\"Calling {func.__name__}({signature})\")\n",
    "        value = func(*args, **kwargs)\n",
    "        print(f\"{func.__name__!r} returned {value!r}\")           \n",
    "        \n",
    "        return value\n",
    "    return wrapper_debug\n",
    "\n",
    "\n",
    "# Apply a decorator to a standard library function\n",
    "math.factorial = debug(math.factorial)\n",
    "\n",
    "def approximate_e(terms=18):\n",
    "    return sum(1 / math.factorial(n) for n in range(terms))"
   ]
  },
  {
   "cell_type": "code",
   "execution_count": 2,
   "metadata": {},
   "outputs": [
    {
     "name": "stdout",
     "output_type": "stream",
     "text": [
      "Calling factorial(0)\n",
      "'factorial' returned 1\n",
      "Calling factorial(1)\n",
      "'factorial' returned 1\n",
      "Calling factorial(2)\n",
      "'factorial' returned 2\n",
      "Calling factorial(3)\n",
      "'factorial' returned 6\n",
      "Calling factorial(4)\n",
      "'factorial' returned 24\n",
      "Calling factorial(5)\n",
      "'factorial' returned 120\n",
      "Calling factorial(6)\n",
      "'factorial' returned 720\n",
      "Calling factorial(7)\n",
      "'factorial' returned 5040\n",
      "Calling factorial(8)\n",
      "'factorial' returned 40320\n",
      "Calling factorial(9)\n",
      "'factorial' returned 362880\n",
      "Calling factorial(10)\n",
      "'factorial' returned 3628800\n",
      "Calling factorial(11)\n",
      "'factorial' returned 39916800\n",
      "Calling factorial(12)\n",
      "'factorial' returned 479001600\n",
      "Calling factorial(13)\n",
      "'factorial' returned 6227020800\n",
      "Calling factorial(14)\n",
      "'factorial' returned 87178291200\n",
      "Calling factorial(15)\n",
      "'factorial' returned 1307674368000\n",
      "Calling factorial(16)\n",
      "'factorial' returned 20922789888000\n",
      "Calling factorial(17)\n",
      "'factorial' returned 355687428096000\n"
     ]
    },
    {
     "data": {
      "text/plain": [
       "2.7182818284590455"
      ]
     },
     "execution_count": 2,
     "metadata": {},
     "output_type": "execute_result"
    }
   ],
   "source": [
    "approximate_e()"
   ]
  },
  {
   "attachments": {
    "image.png": {
     "image/png": "[encoded data removed]"
    }
   },
   "cell_type": "markdown",
   "metadata": {},
   "source": [
    "This example also shows how you can apply a decorator to a function that has already been defined.The approximation of e is based on the following series expansion:\n",
    "![image.png](attachment:image.png)"
   ]
  },
  {
   "cell_type": "markdown",
   "metadata": {},
   "source": [
    "## Slowing Down Code\n",
    "This next example might not seem very useful. Why would you want to slow down your Python code? Probably the most common use case is that you want to rate-limit a function that continuously checks whether a resource—like a web page—has changed. The @slow_down decorator will sleep one second before it calls the decorated function:"
   ]
  },
  {
   "cell_type": "code",
   "execution_count": 86,
   "metadata": {},
   "outputs": [],
   "source": [
    "import functools\n",
    "import time\n",
    "\n",
    "def slow_down(func):\n",
    "    \"\"\"Sleep 1 second before calling the function\"\"\"\n",
    "    @functools.wraps(func)\n",
    "    def wrapper_slow_down(*args, **kwargs):\n",
    "        time.sleep(1)\n",
    "        return func(*args, **kwargs)\n",
    "    return wrapper_slow_down\n",
    "\n",
    "@slow_down\n",
    "def countdown(from_number):\n",
    "    if from_number < 1:\n",
    "        print(\"Liftoff!\")\n",
    "    else:\n",
    "        print(from_number)\n",
    "        countdown(from_number - 1)"
   ]
  },
  {
   "cell_type": "code",
   "execution_count": 87,
   "metadata": {},
   "outputs": [
    {
     "name": "stdout",
     "output_type": "stream",
     "text": [
      "3\n",
      "2\n",
      "1\n",
      "Liftoff!\n"
     ]
    }
   ],
   "source": [
    "countdown(3)"
   ]
  },
  {
   "cell_type": "markdown",
   "metadata": {},
   "source": [
    " The countdown() function is a recursive function. In other words, it’s a function calling itself. "
   ]
  },
  {
   "cell_type": "markdown",
   "metadata": {},
   "source": [
    "## Registering Plugins\n",
    "Decorators don’t have to wrap the function they’re decorating. They can also simply register that a function exists and return it unwrapped. This can be used, for instance, to create a light-weight plug-in architecture:"
   ]
  },
  {
   "cell_type": "code",
   "execution_count": 89,
   "metadata": {},
   "outputs": [],
   "source": [
    "import random\n",
    "PLUGINS = dict()\n",
    "\n",
    "def register(func):\n",
    "    \"\"\"Register a function as a plug-in\"\"\"\n",
    "    PLUGINS[func.__name__] = func\n",
    "    return func\n",
    "\n",
    "@register\n",
    "def say_hello(name):\n",
    "    return f\"Hello {name}\"\n",
    "\n",
    "@register\n",
    "def be_awesome(name):\n",
    "    return f\"Yo {name}, together we are the awesomest!\"\n",
    "\n",
    "def randomly_greet(name):\n",
    "    greeter, greeter_func = random.choice(list(PLUGINS.items()))\n",
    "    print(f\"Using {greeter!r}\")\n",
    "    return greeter_func(name)"
   ]
  },
  {
   "cell_type": "markdown",
   "metadata": {},
   "source": [
    "The @register decorator simply stores a reference to the decorated function in the global PLUGINS dict. Note that you do not have to write an inner function or use @functools.wraps in this example because you are returning the original function unmodified.\n",
    "\n",
    "The randomly_greet() function randomly chooses one of the registered functions to use. Note that the PLUGINS dictionary already contains references to each function object that is registered as a plugin:\n",
    "\n"
   ]
  },
  {
   "cell_type": "code",
   "execution_count": 90,
   "metadata": {},
   "outputs": [
    {
     "data": {
      "text/plain": [
       "{'say_hello': <function __main__.say_hello(name)>,\n",
       " 'be_awesome': <function __main__.be_awesome(name)>}"
      ]
     },
     "execution_count": 90,
     "metadata": {},
     "output_type": "execute_result"
    }
   ],
   "source": [
    "PLUGINS"
   ]
  },
  {
   "cell_type": "code",
   "execution_count": 93,
   "metadata": {},
   "outputs": [
    {
     "name": "stdout",
     "output_type": "stream",
     "text": [
      "Using 'say_hello'\n",
      "Hello Alice\n",
      "Using 'be_awesome'\n",
      "Yo Alice, together we are the awesomest!\n",
      "Using 'say_hello'\n",
      "Hello Alice\n"
     ]
    }
   ],
   "source": [
    "for i in range(3):\n",
    "    print(randomly_greet(\"Alice\"))"
   ]
  },
  {
   "cell_type": "markdown",
   "metadata": {},
   "source": [
    "The main benefit of this simple plugin architecture is that you do not need to maintain a list of which plugins exist. That list is created when the plugins register themselves. This makes it trivial to add a new plugin: just define the function and decorate it with @register.\n",
    "\n",
    "If you are familiar with globals() in Python, you might see some similarities to how the plugin architecture works. globals() gives access to all global variables in the current scope, including your plugins:"
   ]
  },
  {
   "cell_type": "code",
   "execution_count": 94,
   "metadata": {},
   "outputs": [
    {
     "data": {
      "text/plain": [
       "{'__name__': '__main__',\n",
       " '__doc__': 'Automatically created module for IPython interactive environment',\n",
       " '__package__': None,\n",
       " '__loader__': None,\n",
       " '__spec__': None,\n",
       " '__builtin__': <module 'builtins' (built-in)>,\n",
       " '__builtins__': <module 'builtins' (built-in)>,\n",
       " '_ih': ['',\n",
       "  'def add_one(number):\\n    return number + 1\\n\\nadd_one(2)',\n",
       "  'def say_hello(name):\\n    return f\"Hello {name}\"\\n\\ndef be_awesome(name):\\n    return f\"Yo {name}, together we are the awesomest!\"\\n\\ndef greet_bob(greeter_func):\\n    return greeter_func(\"Bob\")',\n",
       "  \"be_awesome('aa')\",\n",
       "  'greet_bob(be_awesome)',\n",
       "  'print(greet_bob(say_hello))\\n\\nprint(greet_bob(be_awesome))',\n",
       "  'def parent():\\n    print(\"Printing from the parent() function\")\\n\\n    def first_child():\\n        print(\"Printing from the first_child() function\")\\n\\n    def second_child():\\n        print(\"Printing from the second_child() function\")\\n\\n    second_child()\\n    first_child()',\n",
       "  'parent()',\n",
       "  'second_child()',\n",
       "  'def parent(num):\\n    def first_child():\\n        return \"Hi, I am Emma\"\\n\\n    def second_child():\\n        return \"Call me Liam\"\\n\\n    if num == 1:\\n        return first_child\\n    else:\\n        return second_child',\n",
       "  'first = parent(1)\\nsecond = parent(2)',\n",
       "  'print(first)',\n",
       "  'first()',\n",
       "  'first',\n",
       "  'first()',\n",
       "  'second()',\n",
       "  'def my_decorator(func):\\n    def wrapper():\\n        print(\"Something is happening before the function is called.\")\\n        func()\\n        print(\"Something is happening after the function is called.\")\\n    return wrapper\\n\\ndef say_whee():\\n    print(\"Whee!\")\\n\\nsay_whee = my_decorator(say_whee)',\n",
       "  'say_wee()',\n",
       "  'say_whee()',\n",
       "  'say_whee',\n",
       "  'print(say_whee)\\nsay_whee()',\n",
       "  'def my_decorator(func):\\n    def wrapper():\\n        print(\"Something is happening before the function is called.\")\\n        func()\\n        print(\"Something is happening after the function is called.\")\\n    return wrapper\\n\\n@my_decorator\\ndef say_whee():\\n    print(\"Whee!\")\\n    \\n# @my_decorator is just an easier way of saying say_whee = my_decorator(say_whee)',\n",
       "  'say_whee()',\n",
       "  \"say_whee('Lalala')\",\n",
       "  'def my_decorator(func):\\n    def wrapper():\\n        print(\"Something is happening before the function is called.\")\\n        func()\\n        print(\"Something is happening after the function is called.\")\\n    return wrapper\\n\\n@my_decorator\\ndef say_whee(astring):\\n    print(\"Whee!\"+astring)\\n    \\n# @my_decorator is just an easier way of saying say_whee = my_decorator(say_whee)',\n",
       "  \"say_whee('Lalala')\",\n",
       "  'def do_twice(func):\\n    def wrapper_do_twice():\\n        func()\\n        func()\\n    return wrapper_do_twice',\n",
       "  '@do_twice\\ndef say_whee():\\n    print(\"Whee!\")',\n",
       "  'say_whee',\n",
       "  'say_whee()',\n",
       "  '@do_twice\\ndef greet(name):\\n    print(f\"Hello {name}\")',\n",
       "  '# Unfortunately, running this code raises an error:\\ngreet(\"World\")',\n",
       "  'def do_twice(func):\\n    def wrapper_do_twice(*args, **kwargs):\\n        func(*args, **kwargs)\\n        func(*args, **kwargs)\\n    return wrapper_do_twice',\n",
       "  'say_whee()',\n",
       "  'greet(\"World\")',\n",
       "  '@do_twice\\ndef greet(name):\\n    print(f\"Hello {name}\")',\n",
       "  'greet(\"World\")',\n",
       "  '@do_twice\\ndef return_greeting(name):\\n    print(\"Creating greeting\")\\n    return f\"Hi {name}\"',\n",
       "  'hi_adam = return_greeting(\"Adam\")',\n",
       "  'hi_adam = return_greeting(\"Adam\")\\nprint(hi_adam)',\n",
       "  'def do_twice(func):\\n    def wrapper_do_twice(*args, **kwargs):\\n        func(*args, **kwargs)\\n        return func(*args, **kwargs)\\n    return wrapper_do_twice',\n",
       "  'def do_twice(func):\\n    def wrapper_do_twice(*args, **kwargs):\\n        func(*args, **kwargs)\\n        return func(*args, **kwargs)\\n    return wrapper_do_twice\\n\\n@do_twice\\ndef return_greeting(name):\\n    print(\"Creating greeting\")\\n    return f\"Hi {name}\"',\n",
       "  'hi_adam = return_greeting(\"Adam\")\\nprint(hi_adam)',\n",
       "  'print',\n",
       "  'print.__name__',\n",
       "  'help(print)',\n",
       "  '# ',\n",
       "  '# The introspection works for functions you define yourself as well:\\nsay_wee',\n",
       "  '# The introspection works for functions you define yourself as well:\\nsay_whee',\n",
       "  'return_greeting',\n",
       "  '# The introspection works for functions you define yourself as well:\\nsay_whee.__name__',\n",
       "  'help(say_whee)',\n",
       "  'import functools\\n\\ndef do_twice(func):\\n    @functools.wraps(func)\\n    def wrapper_do_twice(*args, **kwargs):\\n        func(*args, **kwargs)\\n        return func(*args, **kwargs)\\n    return wrapper_do_twice',\n",
       "  'say_whee',\n",
       "  'say_whee.__name__',\n",
       "  'import functools\\n\\ndef do_twice(func):\\n    @functools.wraps(func)\\n    def wrapper_do_twice(*args, **kwargs):\\n        func(*args, **kwargs)\\n        return func(*args, **kwargs)\\n    return wrapper_do_twice\\n\\n@do_twice\\ndef say_whee():\\n    print(\"Whee!\")',\n",
       "  'say_whee.__name__',\n",
       "  'import functools\\n\\ndef decorator(func):\\n    @functools.wraps(func)\\n    def wrapper_decorator(*args, **kwargs):\\n        # Do something before\\n        value = func(*args, **kwargs)\\n        # Do something after\\n        return value\\n    return wrapper_decorator\\n\\n#This formula is a good boilerplate template for building more complex decorators.',\n",
       "  'import functools\\nimport time\\n\\ndef timer(func):\\n    \"\"\"Print the runtime of the decorated function\"\"\"\\n    @functools.wraps(func)\\n    def wrapper_timer(*args, **kwargs):\\n        start_time = time.perf_counter()    # 1\\n        value = func(*args, **kwargs)\\n        end_time = time.perf_counter()      # 2\\n        run_time = end_time - start_time    # 3\\n        print(f\"Finished {func.__name__!r} in {run_time:.4f} secs\")\\n        return value\\n    return wrapper_timer\\n\\n@timer\\ndef waste_some_time(num_times):\\n    for _ in range(num_times):\\n        sum([i**2 for i in range(10000)])',\n",
       "  'waste_some_time(3)',\n",
       "  'waste_some_time(10)',\n",
       "  'waste_some_time(999)',\n",
       "  'waste_some_time(1)',\n",
       "  'runtime = waste_some_time(1)',\n",
       "  'runtime',\n",
       "  'runtime = waste_some_time(1)',\n",
       "  'runtime',\n",
       "  'print(runtime)',\n",
       "  'import functools\\nimport time\\n\\ndef timer(func):\\n    \"\"\"Print the runtime of the decorated function\"\"\"\\n    @functools.wraps(func)\\n    def wrapper_timer(*args, **kwargs):\\n        start_time = time.perf_counter()    # the time just before the function starts\\n        value = func(*args, **kwargs)\\n        end_time = time.perf_counter()      # the time just after the function finishes\\n        run_time = end_time - start_time    # The time the function takes\\n        print(f\"Finished {func.__name__!r} in {run_time:.4f} secs\")\\n        return value\\n    return wrapper_timer\\n\\n@timer\\ndef waste_some_time(num_times):\\n    for _ in range(num_times):\\n        sum([i**2 for i in range(10000)])\\n    return num_times',\n",
       "  'runtime = waste_some_time(1)',\n",
       "  'print(runtime)',\n",
       "  'import functools\\nimport time\\n\\ndef timer(func):\\n    \"\"\"Print the runtime of the decorated function\"\"\"\\n    @functools.wraps(func)\\n    def wrapper_timer(*args, **kwargs):\\n        start_time = time.perf_counter()    # the time just before the function starts\\n        value = func(*args, **kwargs)\\n        end_time = time.perf_counter()      # the time just after the function finishes\\n        run_time = end_time - start_time    # The time the function takes\\n        print(f\"Finished {func.__name__!r} in {run_time:.4f} secs\")\\n        return value\\n    return wrapper_timer\\n\\n@timer\\ndef waste_some_time(num_times):\\n    for _ in range(num_times):\\n        a = sum([i**2 for i in range(10000)])\\n    return a',\n",
       "  'runtime = waste_some_time(1)',\n",
       "  'print(runtime)',\n",
       "  'import functools\\n\\ndef debug(func):\\n    \"\"\"Print the function signature and return value\"\"\"\\n    @functools.wraps(func)\\n    def wrapper_debug(*args, **kwargs):\\n        args_repr = [repr(a) for a in args]                      \\n        # Create a list of the positional arguments. \\n        # Use repr() to get a nice string representing each argument.\\n        \\n        kwargs_repr = [f\"{k}={v!r}\" for k, v in kwargs.items()]  \\n        # Create a list of the positional arguments. \\n        # Use repr() to get a nice string representing each argument.\\n        # as key=value where the !r specifier means that repr() is used to \\n        # represent the value.\\n        \\n        signature = \", \".join(args_repr + kwargs_repr)           \\n        # The lists of positional and keyword arguments is joined together \\n        # to one signature string with each argument separated by a comma.\\n        \\n        print(f\"Calling {func.__name__}({signature})\")\\n        value = func(*args, **kwargs)\\n        print(f\"{func.__name__!r} returned {value!r}\")           \\n        # The return value is printed after the function is executed.\\n        \\n        return value\\n    return wrapper_debug',\n",
       "  '@debug\\ndef make_greeting(name, age=None):\\n    if age is None:\\n        return f\"Howdy {name}!\"\\n    else:\\n        return f\"Whoa {name}! {age} already, you are growing up!\"',\n",
       "  'make_greeting(\"Benjamin\")',\n",
       "  'make_greeting(\"Richard\", age=112)',\n",
       "  'make_greeting(name=\"Dorrisile\", age=116)',\n",
       "  'import math\\nimport functools\\n\\ndef debug(func):\\n    \"\"\"Print the function signature and return value\"\"\"\\n    @functools.wraps(func)\\n    def wrapper_debug(*args, **kwargs):\\n        args_repr = [repr(a) for a in args]                      \\n        kwargs_repr = [f\"{k}={v!r}\" for k, v in kwargs.items()]  \\n        signature = \", \".join(args_repr + kwargs_repr)           \\n        print(f\"Calling {func.__name__}({signature})\")\\n        value = func(*args, **kwargs)\\n        print(f\"{func.__name__!r} returned {value!r}\")           \\n        \\n        return value\\n    return wrapper_debug\\n\\n\\n# Apply a decorator to a standard library function\\nmath.factorial = debug(math.factorial)\\n\\ndef approximate_e(terms=18):\\n    return sum(1 / math.factorial(n) for n in range(terms))',\n",
       "  'approximate_e(5)',\n",
       "  \"a = 1\\nprint('{a} 111')\",\n",
       "  \"a = 1\\nprint(f'{a} 111')\",\n",
       "  \"a = 'fefwe122'\\nb = 123\\nprint (f'{a!r}fef{b!a}eafea')\",\n",
       "  \"a = 'fefwe122'\\nb = 123\\nprint (f'{a!r}fef{b!r}eafea')\",\n",
       "  'math.e',\n",
       "  'import functools\\nimport time\\n\\ndef slow_down(func):\\n    \"\"\"Sleep 1 second before calling the function\"\"\"\\n    @functools.wraps(func)\\n    def wrapper_slow_down(*args, **kwargs):\\n        time.sleep(1)\\n        return func(*args, **kwargs)\\n    return wrapper_slow_down\\n\\n@slow_down\\ndef countdown(from_number):\\n    if from_number < 1:\\n        print(\"Liftoff!\")\\n    else:\\n        print(from_number)\\n        countdown(from_number - 1)',\n",
       "  'countdown(3)',\n",
       "  'PLUGINS',\n",
       "  'import random\\nPLUGINS = dict()\\n\\ndef register(func):\\n    \"\"\"Register a function as a plug-in\"\"\"\\n    PLUGINS[func.__name__] = func\\n    return func\\n\\n@register\\ndef say_hello(name):\\n    return f\"Hello {name}\"\\n\\n@register\\ndef be_awesome(name):\\n    return f\"Yo {name}, together we are the awesomest!\"\\n\\ndef randomly_greet(name):\\n    greeter, greeter_func = random.choice(list(PLUGINS.items()))\\n    print(f\"Using {greeter!r}\")\\n    return greeter_func(name)',\n",
       "  'PLUGINS',\n",
       "  'randomly_greet(\"Alice\")',\n",
       "  'for i in range(3):\\n    randomly_greet(\"Alice\")',\n",
       "  'for i in range(3):\\n    print(randomly_greet(\"Alice\"))',\n",
       "  'globals()'],\n",
       " '_oh': {1: 3,\n",
       "  3: 'Yo aa, together we are the awesomest!',\n",
       "  4: 'Yo Bob, together we are the awesomest!',\n",
       "  12: 'Hi, I am Emma',\n",
       "  13: <function __main__.parent.<locals>.first_child()>,\n",
       "  14: 'Hi, I am Emma',\n",
       "  15: 'Call me Liam',\n",
       "  19: <function __main__.my_decorator.<locals>.wrapper()>,\n",
       "  28: <function __main__.do_twice.<locals>.wrapper_do_twice()>,\n",
       "  43: <function print>,\n",
       "  44: 'print',\n",
       "  48: <function __main__.do_twice.<locals>.wrapper_do_twice()>,\n",
       "  49: <function __main__.do_twice.<locals>.wrapper_do_twice(*args, **kwargs)>,\n",
       "  50: 'wrapper_do_twice',\n",
       "  53: <function __main__.do_twice.<locals>.wrapper_do_twice()>,\n",
       "  54: 'wrapper_do_twice',\n",
       "  56: 'say_whee',\n",
       "  76: 'Howdy Benjamin!',\n",
       "  77: 'Whoa Richard! 112 already, you are growing up!',\n",
       "  78: 'Whoa Dorrisile! 116 already, you are growing up!',\n",
       "  80: 2.708333333333333,\n",
       "  85: 2.718281828459045,\n",
       "  90: {'say_hello': <function __main__.say_hello(name)>,\n",
       "   'be_awesome': <function __main__.be_awesome(name)>},\n",
       "  91: 'Yo Alice, together we are the awesomest!'},\n",
       " '_dh': ['/Users/xuhao3/UDACITY/Software_engineering'],\n",
       " 'In': ['',\n",
       "  'def add_one(number):\\n    return number + 1\\n\\nadd_one(2)',\n",
       "  'def say_hello(name):\\n    return f\"Hello {name}\"\\n\\ndef be_awesome(name):\\n    return f\"Yo {name}, together we are the awesomest!\"\\n\\ndef greet_bob(greeter_func):\\n    return greeter_func(\"Bob\")',\n",
       "  \"be_awesome('aa')\",\n",
       "  'greet_bob(be_awesome)',\n",
       "  'print(greet_bob(say_hello))\\n\\nprint(greet_bob(be_awesome))',\n",
       "  'def parent():\\n    print(\"Printing from the parent() function\")\\n\\n    def first_child():\\n        print(\"Printing from the first_child() function\")\\n\\n    def second_child():\\n        print(\"Printing from the second_child() function\")\\n\\n    second_child()\\n    first_child()',\n",
       "  'parent()',\n",
       "  'second_child()',\n",
       "  'def parent(num):\\n    def first_child():\\n        return \"Hi, I am Emma\"\\n\\n    def second_child():\\n        return \"Call me Liam\"\\n\\n    if num == 1:\\n        return first_child\\n    else:\\n        return second_child',\n",
       "  'first = parent(1)\\nsecond = parent(2)',\n",
       "  'print(first)',\n",
       "  'first()',\n",
       "  'first',\n",
       "  'first()',\n",
       "  'second()',\n",
       "  'def my_decorator(func):\\n    def wrapper():\\n        print(\"Something is happening before the function is called.\")\\n        func()\\n        print(\"Something is happening after the function is called.\")\\n    return wrapper\\n\\ndef say_whee():\\n    print(\"Whee!\")\\n\\nsay_whee = my_decorator(say_whee)',\n",
       "  'say_wee()',\n",
       "  'say_whee()',\n",
       "  'say_whee',\n",
       "  'print(say_whee)\\nsay_whee()',\n",
       "  'def my_decorator(func):\\n    def wrapper():\\n        print(\"Something is happening before the function is called.\")\\n        func()\\n        print(\"Something is happening after the function is called.\")\\n    return wrapper\\n\\n@my_decorator\\ndef say_whee():\\n    print(\"Whee!\")\\n    \\n# @my_decorator is just an easier way of saying say_whee = my_decorator(say_whee)',\n",
       "  'say_whee()',\n",
       "  \"say_whee('Lalala')\",\n",
       "  'def my_decorator(func):\\n    def wrapper():\\n        print(\"Something is happening before the function is called.\")\\n        func()\\n        print(\"Something is happening after the function is called.\")\\n    return wrapper\\n\\n@my_decorator\\ndef say_whee(astring):\\n    print(\"Whee!\"+astring)\\n    \\n# @my_decorator is just an easier way of saying say_whee = my_decorator(say_whee)',\n",
       "  \"say_whee('Lalala')\",\n",
       "  'def do_twice(func):\\n    def wrapper_do_twice():\\n        func()\\n        func()\\n    return wrapper_do_twice',\n",
       "  '@do_twice\\ndef say_whee():\\n    print(\"Whee!\")',\n",
       "  'say_whee',\n",
       "  'say_whee()',\n",
       "  '@do_twice\\ndef greet(name):\\n    print(f\"Hello {name}\")',\n",
       "  '# Unfortunately, running this code raises an error:\\ngreet(\"World\")',\n",
       "  'def do_twice(func):\\n    def wrapper_do_twice(*args, **kwargs):\\n        func(*args, **kwargs)\\n        func(*args, **kwargs)\\n    return wrapper_do_twice',\n",
       "  'say_whee()',\n",
       "  'greet(\"World\")',\n",
       "  '@do_twice\\ndef greet(name):\\n    print(f\"Hello {name}\")',\n",
       "  'greet(\"World\")',\n",
       "  '@do_twice\\ndef return_greeting(name):\\n    print(\"Creating greeting\")\\n    return f\"Hi {name}\"',\n",
       "  'hi_adam = return_greeting(\"Adam\")',\n",
       "  'hi_adam = return_greeting(\"Adam\")\\nprint(hi_adam)',\n",
       "  'def do_twice(func):\\n    def wrapper_do_twice(*args, **kwargs):\\n        func(*args, **kwargs)\\n        return func(*args, **kwargs)\\n    return wrapper_do_twice',\n",
       "  'def do_twice(func):\\n    def wrapper_do_twice(*args, **kwargs):\\n        func(*args, **kwargs)\\n        return func(*args, **kwargs)\\n    return wrapper_do_twice\\n\\n@do_twice\\ndef return_greeting(name):\\n    print(\"Creating greeting\")\\n    return f\"Hi {name}\"',\n",
       "  'hi_adam = return_greeting(\"Adam\")\\nprint(hi_adam)',\n",
       "  'print',\n",
       "  'print.__name__',\n",
       "  'help(print)',\n",
       "  '# ',\n",
       "  '# The introspection works for functions you define yourself as well:\\nsay_wee',\n",
       "  '# The introspection works for functions you define yourself as well:\\nsay_whee',\n",
       "  'return_greeting',\n",
       "  '# The introspection works for functions you define yourself as well:\\nsay_whee.__name__',\n",
       "  'help(say_whee)',\n",
       "  'import functools\\n\\ndef do_twice(func):\\n    @functools.wraps(func)\\n    def wrapper_do_twice(*args, **kwargs):\\n        func(*args, **kwargs)\\n        return func(*args, **kwargs)\\n    return wrapper_do_twice',\n",
       "  'say_whee',\n",
       "  'say_whee.__name__',\n",
       "  'import functools\\n\\ndef do_twice(func):\\n    @functools.wraps(func)\\n    def wrapper_do_twice(*args, **kwargs):\\n        func(*args, **kwargs)\\n        return func(*args, **kwargs)\\n    return wrapper_do_twice\\n\\n@do_twice\\ndef say_whee():\\n    print(\"Whee!\")',\n",
       "  'say_whee.__name__',\n",
       "  'import functools\\n\\ndef decorator(func):\\n    @functools.wraps(func)\\n    def wrapper_decorator(*args, **kwargs):\\n        # Do something before\\n        value = func(*args, **kwargs)\\n        # Do something after\\n        return value\\n    return wrapper_decorator\\n\\n#This formula is a good boilerplate template for building more complex decorators.',\n",
       "  'import functools\\nimport time\\n\\ndef timer(func):\\n    \"\"\"Print the runtime of the decorated function\"\"\"\\n    @functools.wraps(func)\\n    def wrapper_timer(*args, **kwargs):\\n        start_time = time.perf_counter()    # 1\\n        value = func(*args, **kwargs)\\n        end_time = time.perf_counter()      # 2\\n        run_time = end_time - start_time    # 3\\n        print(f\"Finished {func.__name__!r} in {run_time:.4f} secs\")\\n        return value\\n    return wrapper_timer\\n\\n@timer\\ndef waste_some_time(num_times):\\n    for _ in range(num_times):\\n        sum([i**2 for i in range(10000)])',\n",
       "  'waste_some_time(3)',\n",
       "  'waste_some_time(10)',\n",
       "  'waste_some_time(999)',\n",
       "  'waste_some_time(1)',\n",
       "  'runtime = waste_some_time(1)',\n",
       "  'runtime',\n",
       "  'runtime = waste_some_time(1)',\n",
       "  'runtime',\n",
       "  'print(runtime)',\n",
       "  'import functools\\nimport time\\n\\ndef timer(func):\\n    \"\"\"Print the runtime of the decorated function\"\"\"\\n    @functools.wraps(func)\\n    def wrapper_timer(*args, **kwargs):\\n        start_time = time.perf_counter()    # the time just before the function starts\\n        value = func(*args, **kwargs)\\n        end_time = time.perf_counter()      # the time just after the function finishes\\n        run_time = end_time - start_time    # The time the function takes\\n        print(f\"Finished {func.__name__!r} in {run_time:.4f} secs\")\\n        return value\\n    return wrapper_timer\\n\\n@timer\\ndef waste_some_time(num_times):\\n    for _ in range(num_times):\\n        sum([i**2 for i in range(10000)])\\n    return num_times',\n",
       "  'runtime = waste_some_time(1)',\n",
       "  'print(runtime)',\n",
       "  'import functools\\nimport time\\n\\ndef timer(func):\\n    \"\"\"Print the runtime of the decorated function\"\"\"\\n    @functools.wraps(func)\\n    def wrapper_timer(*args, **kwargs):\\n        start_time = time.perf_counter()    # the time just before the function starts\\n        value = func(*args, **kwargs)\\n        end_time = time.perf_counter()      # the time just after the function finishes\\n        run_time = end_time - start_time    # The time the function takes\\n        print(f\"Finished {func.__name__!r} in {run_time:.4f} secs\")\\n        return value\\n    return wrapper_timer\\n\\n@timer\\ndef waste_some_time(num_times):\\n    for _ in range(num_times):\\n        a = sum([i**2 for i in range(10000)])\\n    return a',\n",
       "  'runtime = waste_some_time(1)',\n",
       "  'print(runtime)',\n",
       "  'import functools\\n\\ndef debug(func):\\n    \"\"\"Print the function signature and return value\"\"\"\\n    @functools.wraps(func)\\n    def wrapper_debug(*args, **kwargs):\\n        args_repr = [repr(a) for a in args]                      \\n        # Create a list of the positional arguments. \\n        # Use repr() to get a nice string representing each argument.\\n        \\n        kwargs_repr = [f\"{k}={v!r}\" for k, v in kwargs.items()]  \\n        # Create a list of the positional arguments. \\n        # Use repr() to get a nice string representing each argument.\\n        # as key=value where the !r specifier means that repr() is used to \\n        # represent the value.\\n        \\n        signature = \", \".join(args_repr + kwargs_repr)           \\n        # The lists of positional and keyword arguments is joined together \\n        # to one signature string with each argument separated by a comma.\\n        \\n        print(f\"Calling {func.__name__}({signature})\")\\n        value = func(*args, **kwargs)\\n        print(f\"{func.__name__!r} returned {value!r}\")           \\n        # The return value is printed after the function is executed.\\n        \\n        return value\\n    return wrapper_debug',\n",
       "  '@debug\\ndef make_greeting(name, age=None):\\n    if age is None:\\n        return f\"Howdy {name}!\"\\n    else:\\n        return f\"Whoa {name}! {age} already, you are growing up!\"',\n",
       "  'make_greeting(\"Benjamin\")',\n",
       "  'make_greeting(\"Richard\", age=112)',\n",
       "  'make_greeting(name=\"Dorrisile\", age=116)',\n",
       "  'import math\\nimport functools\\n\\ndef debug(func):\\n    \"\"\"Print the function signature and return value\"\"\"\\n    @functools.wraps(func)\\n    def wrapper_debug(*args, **kwargs):\\n        args_repr = [repr(a) for a in args]                      \\n        kwargs_repr = [f\"{k}={v!r}\" for k, v in kwargs.items()]  \\n        signature = \", \".join(args_repr + kwargs_repr)           \\n        print(f\"Calling {func.__name__}({signature})\")\\n        value = func(*args, **kwargs)\\n        print(f\"{func.__name__!r} returned {value!r}\")           \\n        \\n        return value\\n    return wrapper_debug\\n\\n\\n# Apply a decorator to a standard library function\\nmath.factorial = debug(math.factorial)\\n\\ndef approximate_e(terms=18):\\n    return sum(1 / math.factorial(n) for n in range(terms))',\n",
       "  'approximate_e(5)',\n",
       "  \"a = 1\\nprint('{a} 111')\",\n",
       "  \"a = 1\\nprint(f'{a} 111')\",\n",
       "  \"a = 'fefwe122'\\nb = 123\\nprint (f'{a!r}fef{b!a}eafea')\",\n",
       "  \"a = 'fefwe122'\\nb = 123\\nprint (f'{a!r}fef{b!r}eafea')\",\n",
       "  'math.e',\n",
       "  'import functools\\nimport time\\n\\ndef slow_down(func):\\n    \"\"\"Sleep 1 second before calling the function\"\"\"\\n    @functools.wraps(func)\\n    def wrapper_slow_down(*args, **kwargs):\\n        time.sleep(1)\\n        return func(*args, **kwargs)\\n    return wrapper_slow_down\\n\\n@slow_down\\ndef countdown(from_number):\\n    if from_number < 1:\\n        print(\"Liftoff!\")\\n    else:\\n        print(from_number)\\n        countdown(from_number - 1)',\n",
       "  'countdown(3)',\n",
       "  'PLUGINS',\n",
       "  'import random\\nPLUGINS = dict()\\n\\ndef register(func):\\n    \"\"\"Register a function as a plug-in\"\"\"\\n    PLUGINS[func.__name__] = func\\n    return func\\n\\n@register\\ndef say_hello(name):\\n    return f\"Hello {name}\"\\n\\n@register\\ndef be_awesome(name):\\n    return f\"Yo {name}, together we are the awesomest!\"\\n\\ndef randomly_greet(name):\\n    greeter, greeter_func = random.choice(list(PLUGINS.items()))\\n    print(f\"Using {greeter!r}\")\\n    return greeter_func(name)',\n",
       "  'PLUGINS',\n",
       "  'randomly_greet(\"Alice\")',\n",
       "  'for i in range(3):\\n    randomly_greet(\"Alice\")',\n",
       "  'for i in range(3):\\n    print(randomly_greet(\"Alice\"))',\n",
       "  'globals()'],\n",
       " 'Out': {1: 3,\n",
       "  3: 'Yo aa, together we are the awesomest!',\n",
       "  4: 'Yo Bob, together we are the awesomest!',\n",
       "  12: 'Hi, I am Emma',\n",
       "  13: <function __main__.parent.<locals>.first_child()>,\n",
       "  14: 'Hi, I am Emma',\n",
       "  15: 'Call me Liam',\n",
       "  19: <function __main__.my_decorator.<locals>.wrapper()>,\n",
       "  28: <function __main__.do_twice.<locals>.wrapper_do_twice()>,\n",
       "  43: <function print>,\n",
       "  44: 'print',\n",
       "  48: <function __main__.do_twice.<locals>.wrapper_do_twice()>,\n",
       "  49: <function __main__.do_twice.<locals>.wrapper_do_twice(*args, **kwargs)>,\n",
       "  50: 'wrapper_do_twice',\n",
       "  53: <function __main__.do_twice.<locals>.wrapper_do_twice()>,\n",
       "  54: 'wrapper_do_twice',\n",
       "  56: 'say_whee',\n",
       "  76: 'Howdy Benjamin!',\n",
       "  77: 'Whoa Richard! 112 already, you are growing up!',\n",
       "  78: 'Whoa Dorrisile! 116 already, you are growing up!',\n",
       "  80: 2.708333333333333,\n",
       "  85: 2.718281828459045,\n",
       "  90: {'say_hello': <function __main__.say_hello(name)>,\n",
       "   'be_awesome': <function __main__.be_awesome(name)>},\n",
       "  91: 'Yo Alice, together we are the awesomest!'},\n",
       " 'get_ipython': <bound method InteractiveShell.get_ipython of <ipykernel.zmqshell.ZMQInteractiveShell object at 0x1114eb950>>,\n",
       " 'exit': <IPython.core.autocall.ZMQExitAutocall at 0x111577310>,\n",
       " 'quit': <IPython.core.autocall.ZMQExitAutocall at 0x111577310>,\n",
       " '_': 'Yo Alice, together we are the awesomest!',\n",
       " '__': {'say_hello': <function __main__.say_hello(name)>,\n",
       "  'be_awesome': <function __main__.be_awesome(name)>},\n",
       " '___': 2.718281828459045,\n",
       " '_i': 'for i in range(3):\\n    print(randomly_greet(\"Alice\"))',\n",
       " '_ii': 'for i in range(3):\\n    randomly_greet(\"Alice\")',\n",
       " '_iii': 'randomly_greet(\"Alice\")',\n",
       " '_i1': 'def add_one(number):\\n    return number + 1\\n\\nadd_one(2)',\n",
       " 'add_one': <function __main__.add_one(number)>,\n",
       " '_1': 3,\n",
       " '_i2': 'def say_hello(name):\\n    return f\"Hello {name}\"\\n\\ndef be_awesome(name):\\n    return f\"Yo {name}, together we are the awesomest!\"\\n\\ndef greet_bob(greeter_func):\\n    return greeter_func(\"Bob\")',\n",
       " 'say_hello': <function __main__.say_hello(name)>,\n",
       " 'be_awesome': <function __main__.be_awesome(name)>,\n",
       " 'greet_bob': <function __main__.greet_bob(greeter_func)>,\n",
       " '_i3': \"be_awesome('aa')\",\n",
       " '_3': 'Yo aa, together we are the awesomest!',\n",
       " '_i4': 'greet_bob(be_awesome)',\n",
       " '_4': 'Yo Bob, together we are the awesomest!',\n",
       " '_i5': 'print(greet_bob(say_hello))\\n\\nprint(greet_bob(be_awesome))',\n",
       " '_i6': 'def parent():\\n    print(\"Printing from the parent() function\")\\n\\n    def first_child():\\n        print(\"Printing from the first_child() function\")\\n\\n    def second_child():\\n        print(\"Printing from the second_child() function\")\\n\\n    second_child()\\n    first_child()',\n",
       " 'parent': <function __main__.parent(num)>,\n",
       " '_i7': 'parent()',\n",
       " '_i8': 'second_child()',\n",
       " '_i9': 'def parent(num):\\n    def first_child():\\n        return \"Hi, I am Emma\"\\n\\n    def second_child():\\n        return \"Call me Liam\"\\n\\n    if num == 1:\\n        return first_child\\n    else:\\n        return second_child',\n",
       " '_i10': 'first = parent(1)\\nsecond = parent(2)',\n",
       " 'first': <function __main__.parent.<locals>.first_child()>,\n",
       " 'second': <function __main__.parent.<locals>.second_child()>,\n",
       " '_i11': 'print(first)',\n",
       " '_i12': 'first()',\n",
       " '_12': 'Hi, I am Emma',\n",
       " '_i13': 'first',\n",
       " '_13': <function __main__.parent.<locals>.first_child()>,\n",
       " '_i14': 'first()',\n",
       " '_14': 'Hi, I am Emma',\n",
       " '_i15': 'second()',\n",
       " '_15': 'Call me Liam',\n",
       " '_i16': 'def my_decorator(func):\\n    def wrapper():\\n        print(\"Something is happening before the function is called.\")\\n        func()\\n        print(\"Something is happening after the function is called.\")\\n    return wrapper\\n\\ndef say_whee():\\n    print(\"Whee!\")\\n\\nsay_whee = my_decorator(say_whee)',\n",
       " 'my_decorator': <function __main__.my_decorator(func)>,\n",
       " 'say_whee': <function __main__.say_whee()>,\n",
       " '_i17': 'say_wee()',\n",
       " '_i18': 'say_whee()',\n",
       " '_i19': 'say_whee',\n",
       " '_19': <function __main__.my_decorator.<locals>.wrapper()>,\n",
       " '_i20': 'print(say_whee)\\nsay_whee()',\n",
       " '_i21': 'def my_decorator(func):\\n    def wrapper():\\n        print(\"Something is happening before the function is called.\")\\n        func()\\n        print(\"Something is happening after the function is called.\")\\n    return wrapper\\n\\n@my_decorator\\ndef say_whee():\\n    print(\"Whee!\")\\n    \\n# @my_decorator is just an easier way of saying say_whee = my_decorator(say_whee)',\n",
       " '_i22': 'say_whee()',\n",
       " '_i23': \"say_whee('Lalala')\",\n",
       " '_i24': 'def my_decorator(func):\\n    def wrapper():\\n        print(\"Something is happening before the function is called.\")\\n        func()\\n        print(\"Something is happening after the function is called.\")\\n    return wrapper\\n\\n@my_decorator\\ndef say_whee(astring):\\n    print(\"Whee!\"+astring)\\n    \\n# @my_decorator is just an easier way of saying say_whee = my_decorator(say_whee)',\n",
       " '_i25': \"say_whee('Lalala')\",\n",
       " '_i26': 'def do_twice(func):\\n    def wrapper_do_twice():\\n        func()\\n        func()\\n    return wrapper_do_twice',\n",
       " 'do_twice': <function __main__.do_twice(func)>,\n",
       " '_i27': '@do_twice\\ndef say_whee():\\n    print(\"Whee!\")',\n",
       " '_i28': 'say_whee',\n",
       " '_28': <function __main__.do_twice.<locals>.wrapper_do_twice()>,\n",
       " '_i29': 'say_whee()',\n",
       " '_i30': '@do_twice\\ndef greet(name):\\n    print(f\"Hello {name}\")',\n",
       " 'greet': <function __main__.do_twice.<locals>.wrapper_do_twice(*args, **kwargs)>,\n",
       " '_i31': '# Unfortunately, running this code raises an error:\\ngreet(\"World\")',\n",
       " '_i32': 'def do_twice(func):\\n    def wrapper_do_twice(*args, **kwargs):\\n        func(*args, **kwargs)\\n        func(*args, **kwargs)\\n    return wrapper_do_twice',\n",
       " '_i33': 'say_whee()',\n",
       " '_i34': 'greet(\"World\")',\n",
       " '_i35': '@do_twice\\ndef greet(name):\\n    print(f\"Hello {name}\")',\n",
       " '_i36': 'greet(\"World\")',\n",
       " '_i37': '@do_twice\\ndef return_greeting(name):\\n    print(\"Creating greeting\")\\n    return f\"Hi {name}\"',\n",
       " 'return_greeting': <function __main__.do_twice.<locals>.wrapper_do_twice(*args, **kwargs)>,\n",
       " '_i38': 'hi_adam = return_greeting(\"Adam\")',\n",
       " 'hi_adam': 'Hi Adam',\n",
       " '_i39': 'hi_adam = return_greeting(\"Adam\")\\nprint(hi_adam)',\n",
       " '_i40': 'def do_twice(func):\\n    def wrapper_do_twice(*args, **kwargs):\\n        func(*args, **kwargs)\\n        return func(*args, **kwargs)\\n    return wrapper_do_twice',\n",
       " '_i41': 'def do_twice(func):\\n    def wrapper_do_twice(*args, **kwargs):\\n        func(*args, **kwargs)\\n        return func(*args, **kwargs)\\n    return wrapper_do_twice\\n\\n@do_twice\\ndef return_greeting(name):\\n    print(\"Creating greeting\")\\n    return f\"Hi {name}\"',\n",
       " '_i42': 'hi_adam = return_greeting(\"Adam\")\\nprint(hi_adam)',\n",
       " '_i43': 'print',\n",
       " '_43': <function print>,\n",
       " '_i44': 'print.__name__',\n",
       " '_44': 'print',\n",
       " '_i45': 'help(print)',\n",
       " '_i46': '# ',\n",
       " '_i47': '# The introspection works for functions you define yourself as well:\\nsay_wee',\n",
       " '_i48': '# The introspection works for functions you define yourself as well:\\nsay_whee',\n",
       " '_48': <function __main__.do_twice.<locals>.wrapper_do_twice()>,\n",
       " '_i49': 'return_greeting',\n",
       " '_49': <function __main__.do_twice.<locals>.wrapper_do_twice(*args, **kwargs)>,\n",
       " '_i50': '# The introspection works for functions you define yourself as well:\\nsay_whee.__name__',\n",
       " '_50': 'wrapper_do_twice',\n",
       " '_i51': 'help(say_whee)',\n",
       " '_i52': 'import functools\\n\\ndef do_twice(func):\\n    @functools.wraps(func)\\n    def wrapper_do_twice(*args, **kwargs):\\n        func(*args, **kwargs)\\n        return func(*args, **kwargs)\\n    return wrapper_do_twice',\n",
       " 'functools': <module 'functools' from '/Users/xuhao3/opt/anaconda3/lib/python3.7/functools.py'>,\n",
       " '_i53': 'say_whee',\n",
       " '_53': <function __main__.do_twice.<locals>.wrapper_do_twice()>,\n",
       " '_i54': 'say_whee.__name__',\n",
       " '_54': 'wrapper_do_twice',\n",
       " '_i55': 'import functools\\n\\ndef do_twice(func):\\n    @functools.wraps(func)\\n    def wrapper_do_twice(*args, **kwargs):\\n        func(*args, **kwargs)\\n        return func(*args, **kwargs)\\n    return wrapper_do_twice\\n\\n@do_twice\\ndef say_whee():\\n    print(\"Whee!\")',\n",
       " '_i56': 'say_whee.__name__',\n",
       " '_56': 'say_whee',\n",
       " '_i57': 'import functools\\n\\ndef decorator(func):\\n    @functools.wraps(func)\\n    def wrapper_decorator(*args, **kwargs):\\n        # Do something before\\n        value = func(*args, **kwargs)\\n        # Do something after\\n        return value\\n    return wrapper_decorator\\n\\n#This formula is a good boilerplate template for building more complex decorators.',\n",
       " 'decorator': <function __main__.decorator(func)>,\n",
       " '_i58': 'import functools\\nimport time\\n\\ndef timer(func):\\n    \"\"\"Print the runtime of the decorated function\"\"\"\\n    @functools.wraps(func)\\n    def wrapper_timer(*args, **kwargs):\\n        start_time = time.perf_counter()    # 1\\n        value = func(*args, **kwargs)\\n        end_time = time.perf_counter()      # 2\\n        run_time = end_time - start_time    # 3\\n        print(f\"Finished {func.__name__!r} in {run_time:.4f} secs\")\\n        return value\\n    return wrapper_timer\\n\\n@timer\\ndef waste_some_time(num_times):\\n    for _ in range(num_times):\\n        sum([i**2 for i in range(10000)])',\n",
       " 'time': <module 'time' (built-in)>,\n",
       " 'timer': <function __main__.timer(func)>,\n",
       " 'waste_some_time': <function __main__.waste_some_time(num_times)>,\n",
       " '_i59': 'waste_some_time(3)',\n",
       " '_i60': 'waste_some_time(10)',\n",
       " '_i61': 'waste_some_time(999)',\n",
       " '_i62': 'waste_some_time(1)',\n",
       " '_i63': 'runtime = waste_some_time(1)',\n",
       " 'runtime': 333283335000,\n",
       " '_i64': 'runtime',\n",
       " '_i65': 'runtime = waste_some_time(1)',\n",
       " '_i66': 'runtime',\n",
       " '_i67': 'print(runtime)',\n",
       " '_i68': 'import functools\\nimport time\\n\\ndef timer(func):\\n    \"\"\"Print the runtime of the decorated function\"\"\"\\n    @functools.wraps(func)\\n    def wrapper_timer(*args, **kwargs):\\n        start_time = time.perf_counter()    # the time just before the function starts\\n        value = func(*args, **kwargs)\\n        end_time = time.perf_counter()      # the time just after the function finishes\\n        run_time = end_time - start_time    # The time the function takes\\n        print(f\"Finished {func.__name__!r} in {run_time:.4f} secs\")\\n        return value\\n    return wrapper_timer\\n\\n@timer\\ndef waste_some_time(num_times):\\n    for _ in range(num_times):\\n        sum([i**2 for i in range(10000)])\\n    return num_times',\n",
       " '_i69': 'runtime = waste_some_time(1)',\n",
       " '_i70': 'print(runtime)',\n",
       " '_i71': 'import functools\\nimport time\\n\\ndef timer(func):\\n    \"\"\"Print the runtime of the decorated function\"\"\"\\n    @functools.wraps(func)\\n    def wrapper_timer(*args, **kwargs):\\n        start_time = time.perf_counter()    # the time just before the function starts\\n        value = func(*args, **kwargs)\\n        end_time = time.perf_counter()      # the time just after the function finishes\\n        run_time = end_time - start_time    # The time the function takes\\n        print(f\"Finished {func.__name__!r} in {run_time:.4f} secs\")\\n        return value\\n    return wrapper_timer\\n\\n@timer\\ndef waste_some_time(num_times):\\n    for _ in range(num_times):\\n        a = sum([i**2 for i in range(10000)])\\n    return a',\n",
       " '_i72': 'runtime = waste_some_time(1)',\n",
       " '_i73': 'print(runtime)',\n",
       " '_i74': 'import functools\\n\\ndef debug(func):\\n    \"\"\"Print the function signature and return value\"\"\"\\n    @functools.wraps(func)\\n    def wrapper_debug(*args, **kwargs):\\n        args_repr = [repr(a) for a in args]                      \\n        # Create a list of the positional arguments. \\n        # Use repr() to get a nice string representing each argument.\\n        \\n        kwargs_repr = [f\"{k}={v!r}\" for k, v in kwargs.items()]  \\n        # Create a list of the positional arguments. \\n        # Use repr() to get a nice string representing each argument.\\n        # as key=value where the !r specifier means that repr() is used to \\n        # represent the value.\\n        \\n        signature = \", \".join(args_repr + kwargs_repr)           \\n        # The lists of positional and keyword arguments is joined together \\n        # to one signature string with each argument separated by a comma.\\n        \\n        print(f\"Calling {func.__name__}({signature})\")\\n        value = func(*args, **kwargs)\\n        print(f\"{func.__name__!r} returned {value!r}\")           \\n        # The return value is printed after the function is executed.\\n        \\n        return value\\n    return wrapper_debug',\n",
       " 'debug': <function __main__.debug(func)>,\n",
       " '_i75': '@debug\\ndef make_greeting(name, age=None):\\n    if age is None:\\n        return f\"Howdy {name}!\"\\n    else:\\n        return f\"Whoa {name}! {age} already, you are growing up!\"',\n",
       " 'make_greeting': <function __main__.make_greeting(name, age=None)>,\n",
       " '_i76': 'make_greeting(\"Benjamin\")',\n",
       " '_76': 'Howdy Benjamin!',\n",
       " '_i77': 'make_greeting(\"Richard\", age=112)',\n",
       " '_77': 'Whoa Richard! 112 already, you are growing up!',\n",
       " '_i78': 'make_greeting(name=\"Dorrisile\", age=116)',\n",
       " '_78': 'Whoa Dorrisile! 116 already, you are growing up!',\n",
       " '_i79': 'import math\\nimport functools\\n\\ndef debug(func):\\n    \"\"\"Print the function signature and return value\"\"\"\\n    @functools.wraps(func)\\n    def wrapper_debug(*args, **kwargs):\\n        args_repr = [repr(a) for a in args]                      \\n        kwargs_repr = [f\"{k}={v!r}\" for k, v in kwargs.items()]  \\n        signature = \", \".join(args_repr + kwargs_repr)           \\n        print(f\"Calling {func.__name__}({signature})\")\\n        value = func(*args, **kwargs)\\n        print(f\"{func.__name__!r} returned {value!r}\")           \\n        \\n        return value\\n    return wrapper_debug\\n\\n\\n# Apply a decorator to a standard library function\\nmath.factorial = debug(math.factorial)\\n\\ndef approximate_e(terms=18):\\n    return sum(1 / math.factorial(n) for n in range(terms))',\n",
       " 'math': <module 'math' from '/Users/xuhao3/opt/anaconda3/lib/python3.7/lib-dynload/math.cpython-37m-darwin.so'>,\n",
       " 'approximate_e': <function __main__.approximate_e(terms=18)>,\n",
       " '_i80': 'approximate_e(5)',\n",
       " '_80': 2.708333333333333,\n",
       " '_i81': \"a = 1\\nprint('{a} 111')\",\n",
       " 'a': 'fefwe122',\n",
       " '_i82': \"a = 1\\nprint(f'{a} 111')\",\n",
       " '_i83': \"a = 'fefwe122'\\nb = 123\\nprint (f'{a!r}fef{b!a}eafea')\",\n",
       " 'b': 123,\n",
       " '_i84': \"a = 'fefwe122'\\nb = 123\\nprint (f'{a!r}fef{b!r}eafea')\",\n",
       " '_i85': 'math.e',\n",
       " '_85': 2.718281828459045,\n",
       " '_i86': 'import functools\\nimport time\\n\\ndef slow_down(func):\\n    \"\"\"Sleep 1 second before calling the function\"\"\"\\n    @functools.wraps(func)\\n    def wrapper_slow_down(*args, **kwargs):\\n        time.sleep(1)\\n        return func(*args, **kwargs)\\n    return wrapper_slow_down\\n\\n@slow_down\\ndef countdown(from_number):\\n    if from_number < 1:\\n        print(\"Liftoff!\")\\n    else:\\n        print(from_number)\\n        countdown(from_number - 1)',\n",
       " 'slow_down': <function __main__.slow_down(func)>,\n",
       " 'countdown': <function __main__.countdown(from_number)>,\n",
       " '_i87': 'countdown(3)',\n",
       " '_i88': 'PLUGINS',\n",
       " '_i89': 'import random\\nPLUGINS = dict()\\n\\ndef register(func):\\n    \"\"\"Register a function as a plug-in\"\"\"\\n    PLUGINS[func.__name__] = func\\n    return func\\n\\n@register\\ndef say_hello(name):\\n    return f\"Hello {name}\"\\n\\n@register\\ndef be_awesome(name):\\n    return f\"Yo {name}, together we are the awesomest!\"\\n\\ndef randomly_greet(name):\\n    greeter, greeter_func = random.choice(list(PLUGINS.items()))\\n    print(f\"Using {greeter!r}\")\\n    return greeter_func(name)',\n",
       " 'random': <module 'random' from '/Users/xuhao3/opt/anaconda3/lib/python3.7/random.py'>,\n",
       " 'PLUGINS': {'say_hello': <function __main__.say_hello(name)>,\n",
       "  'be_awesome': <function __main__.be_awesome(name)>},\n",
       " 'register': <function __main__.register(func)>,\n",
       " 'randomly_greet': <function __main__.randomly_greet(name)>,\n",
       " '_i90': 'PLUGINS',\n",
       " '_90': {'say_hello': <function __main__.say_hello(name)>,\n",
       "  'be_awesome': <function __main__.be_awesome(name)>},\n",
       " '_i91': 'randomly_greet(\"Alice\")',\n",
       " '_91': 'Yo Alice, together we are the awesomest!',\n",
       " '_i92': 'for i in range(3):\\n    randomly_greet(\"Alice\")',\n",
       " 'i': 2,\n",
       " '_i93': 'for i in range(3):\\n    print(randomly_greet(\"Alice\"))',\n",
       " '_i94': 'globals()'}"
      ]
     },
     "execution_count": 94,
     "metadata": {},
     "output_type": "execute_result"
    }
   ],
   "source": [
    "globals()"
   ]
  },
  {
   "cell_type": "markdown",
   "metadata": {},
   "source": [
    "Using the @register decorator, you can create your own curated list of interesting variables, effectively hand-picking some functions from globals().\n",
    "\n",
    "## Is the User Logged In?\n",
    "The final example before moving on to some fancier decorators is commonly used when working with a web framework. In this example, we are using Flask to set up a /secret web page that should only be visible to users that are logged in or otherwise authenticated:"
   ]
  },
  {
   "cell_type": "markdown",
   "metadata": {},
   "source": [
    "```python\n",
    "from flask import Flask, g, request, redirect, url_for\n",
    "import functools\n",
    "app = Flask(__name__)\n",
    "\n",
    "def login_required(func):\n",
    "    \"\"\"Make sure user is logged in before proceeding\"\"\"\n",
    "    @functools.wraps(func)\n",
    "    def wrapper_login_required(*args, **kwargs):\n",
    "        if g.user is None:\n",
    "            return redirect(url_for(\"login\", next=request.url))\n",
    "        return func(*args, **kwargs)\n",
    "    return wrapper_login_required\n",
    "\n",
    "@app.route(\"/secret\")\n",
    "@login_required\n",
    "def secret():\n",
    "    ...\n",
    "```"
   ]
  },
  {
   "cell_type": "markdown",
   "metadata": {},
   "source": [
    "While this gives an idea about how to add authentication to your web framework, you should usually not write these types of decorators yourself. For Flask, you can use the [Flask-Login extension](https://flask-login.readthedocs.io/en/latest/#flask_login.login_required) instead, which adds more security and functionality."
   ]
  },
  {
   "cell_type": "markdown",
   "metadata": {},
   "source": [
    "## Fancy Decorators\n",
    "So far, you’ve seen how to create simple decorators. You already have a pretty good understanding of what decorators are and how they work. Feel free to take a break from this article to practice everything you’ve learned.\n",
    "\n",
    "In the second part of this tutorial, we’ll explore more advanced features, including how to use the following:\n",
    "- Decorators on classes\n",
    "- Several decorators on one function\n",
    "- Decorators with arguments\n",
    "- Decorators that can optionally take arguments\n",
    "- Stateful decorators\n",
    "- Classes as decorators"
   ]
  },
  {
   "cell_type": "markdown",
   "metadata": {},
   "source": [
    "Decorating Classes\n",
    "There are two different ways you can use decorators on classes. The first one is very close to what you have already done with functions: you can decorate the methods of a class. This was one of the motivations for introducing decorators back in the day.\n",
    "\n",
    "Some commonly used decorators that are even built-ins in Python are @classmethod, @staticmethod, and @property. The @classmethod and @staticmethod decorators are used to define methods inside a class namespace that are not connected to a particular instance of that class. **The @property decorator is used to customize getters and setters for class attributes**. \n",
    "\n",
    "The following example demonstrates how to create a property in Python using the property() function.\n",
    "```python\n",
    "class person:\n",
    "    def __init__(self):\n",
    "        self.__name=''\n",
    "    def setname(self, name):\n",
    "        print('setname() called')\n",
    "        self.__name=name\n",
    "    def getname(self):\n",
    "        print('getname() called')\n",
    "        return self.__name\n",
    "    def delname(self):\n",
    "        print('delname() called')\n",
    "        del self.__name\n",
    "    name=property(getname, setname, delname)\n",
    "    ```\n",
    "\n",
    "The following code uses the built-in @property decorator to define the name property in the person class.\n",
    "\n",
    "```python\n",
    "class person:\n",
    "    def __init__(self):\n",
    "        self.__name=''\n",
    "    @property\n",
    "    def name(self):\n",
    "        return self.__name\n",
    "    @name.setter\n",
    "    def name(self, value):\n",
    "        self.__name=value\n",
    "    @name.deleter\n",
    "    def name(self, value):\n",
    "        print('Deleting..')\n",
    "        del self.__name        ```\n",
    "\n",
    "\n",
    "\n",
    "\n",
    "\n",
    "Expand the box below for an example using these decorators.\n",
    "\n",
    "The following definition of a Circle class uses the @classmethod, @staticmethod, and @property decorators:"
   ]
  },
  {
   "cell_type": "code",
   "execution_count": 3,
   "metadata": {},
   "outputs": [],
   "source": [
    "class Circle:\n",
    "    def __init__(self, radius):\n",
    "        self._radius = radius\n",
    "\n",
    "    @property\n",
    "    def radius(self):\n",
    "        \"\"\"Get value of radius\"\"\"\n",
    "        return self._radius\n",
    "\n",
    "    @radius.setter\n",
    "    def radius(self, value):\n",
    "        \"\"\"Set radius, raise error if negative\"\"\"\n",
    "        if value >= 0:\n",
    "            self._radius = value\n",
    "        else:\n",
    "            raise ValueError(\"Radius must be positive\")\n",
    "\n",
    "    @property\n",
    "    def area(self):\n",
    "        \"\"\"Calculate area inside circle\"\"\"\n",
    "        return self.pi() * self.radius**2\n",
    "\n",
    "    def cylinder_volume(self, height):\n",
    "        \"\"\"Calculate volume of cylinder with circle as base\"\"\"\n",
    "        return self.area * height\n",
    "\n",
    "    @classmethod\n",
    "    def unit_circle(cls):\n",
    "        \"\"\"Factory method creating a circle with radius 1\"\"\"\n",
    "        return cls(1)\n",
    "\n",
    "    @staticmethod\n",
    "    def pi():\n",
    "        \"\"\"Value of π, could use math.pi instead though\"\"\"\n",
    "        return 3.1415926535"
   ]
  },
  {
   "cell_type": "markdown",
   "metadata": {},
   "source": [
    "In this class:\n",
    "\n",
    "- .cylinder_volume() is a regular method.\n",
    "- .radius is a mutable property: it can be set to a different value. However, by defining a setter method, we can do some error testing to make sure it’s not set to a nonsensical negative number. Properties are accessed as attributes without parentheses.\n",
    "- .area is an immutable property: properties without .setter() methods can’t be changed. Even though it is defined as a method, it can be retrieved as an attribute without parentheses.\n",
    "- .unit_circle() is a class method. It’s not bound to one particular instance of Circle. Class methods are often used as factory methods that can create specific instances of the class.\n",
    "- .pi() is a static method. It’s not really dependent on the Circle class, except that it is part of its namespace. Static methods can be called on either an instance or the class.\n",
    "\n",
    "The Circle class can for example be used as follows:"
   ]
  },
  {
   "cell_type": "code",
   "execution_count": 4,
   "metadata": {},
   "outputs": [
    {
     "data": {
      "text/plain": [
       "5"
      ]
     },
     "execution_count": 4,
     "metadata": {},
     "output_type": "execute_result"
    }
   ],
   "source": [
    "c = Circle(5)\n",
    "c.radius"
   ]
  },
  {
   "cell_type": "code",
   "execution_count": 5,
   "metadata": {},
   "outputs": [
    {
     "data": {
      "text/plain": [
       "78.5398163375"
      ]
     },
     "execution_count": 5,
     "metadata": {},
     "output_type": "execute_result"
    }
   ],
   "source": [
    "c.area"
   ]
  },
  {
   "cell_type": "code",
   "execution_count": 7,
   "metadata": {},
   "outputs": [
    {
     "data": {
      "text/plain": [
       "12.566370614"
      ]
     },
     "execution_count": 7,
     "metadata": {},
     "output_type": "execute_result"
    }
   ],
   "source": [
    "c.radius = 2\n",
    "c.area"
   ]
  },
  {
   "cell_type": "code",
   "execution_count": 8,
   "metadata": {},
   "outputs": [
    {
     "ename": "AttributeError",
     "evalue": "can't set attribute",
     "output_type": "error",
     "traceback": [
      "\u001b[0;31m---------------------------------------------------------------------------\u001b[0m",
      "\u001b[0;31mAttributeError\u001b[0m                            Traceback (most recent call last)",
      "\u001b[0;32m<ipython-input-8-b28b205e5ef5>\u001b[0m in \u001b[0;36m<module>\u001b[0;34m\u001b[0m\n\u001b[0;32m----> 1\u001b[0;31m \u001b[0mc\u001b[0m\u001b[0;34m.\u001b[0m\u001b[0marea\u001b[0m \u001b[0;34m=\u001b[0m \u001b[0;36m100\u001b[0m\u001b[0;34m\u001b[0m\u001b[0;34m\u001b[0m\u001b[0m\n\u001b[0m",
      "\u001b[0;31mAttributeError\u001b[0m: can't set attribute"
     ]
    }
   ],
   "source": [
    "c.area = 100"
   ]
  },
  {
   "cell_type": "code",
   "execution_count": 9,
   "metadata": {},
   "outputs": [
    {
     "data": {
      "text/plain": [
       "50.265482456"
      ]
     },
     "execution_count": 9,
     "metadata": {},
     "output_type": "execute_result"
    }
   ],
   "source": [
    "c.cylinder_volume(height=4)"
   ]
  },
  {
   "cell_type": "code",
   "execution_count": 10,
   "metadata": {},
   "outputs": [
    {
     "ename": "SyntaxError",
     "evalue": "invalid syntax (<ipython-input-10-f9f75d7bd8f9>, line 2)",
     "output_type": "error",
     "traceback": [
      "\u001b[0;36m  File \u001b[0;32m\"<ipython-input-10-f9f75d7bd8f9>\"\u001b[0;36m, line \u001b[0;32m2\u001b[0m\n\u001b[0;31m    ValueError: Radius must be positive\u001b[0m\n\u001b[0m                          ^\u001b[0m\n\u001b[0;31mSyntaxError\u001b[0m\u001b[0;31m:\u001b[0m invalid syntax\n"
     ]
    }
   ],
   "source": [
    "c.radius = -1\n",
    "ValueError: Radius must be positive"
   ]
  },
  {
   "cell_type": "code",
   "execution_count": 11,
   "metadata": {},
   "outputs": [
    {
     "data": {
      "text/plain": [
       "1"
      ]
     },
     "execution_count": 11,
     "metadata": {},
     "output_type": "execute_result"
    }
   ],
   "source": [
    "c = Circle.unit_circle()\n",
    "c.radius"
   ]
  },
  {
   "cell_type": "code",
   "execution_count": 12,
   "metadata": {},
   "outputs": [
    {
     "data": {
      "text/plain": [
       "3.1415926535"
      ]
     },
     "execution_count": 12,
     "metadata": {},
     "output_type": "execute_result"
    }
   ],
   "source": [
    "c.pi()"
   ]
  },
  {
   "cell_type": "code",
   "execution_count": 13,
   "metadata": {},
   "outputs": [
    {
     "data": {
      "text/plain": [
       "3.1415926535"
      ]
     },
     "execution_count": 13,
     "metadata": {},
     "output_type": "execute_result"
    }
   ],
   "source": [
    "Circle.pi()"
   ]
  },
  {
   "cell_type": "markdown",
   "metadata": {},
   "source": [
    "Let’s define a class where we decorate some of its methods using the @debug and @timer decorators from earlier:"
   ]
  },
  {
   "cell_type": "code",
   "execution_count": 14,
   "metadata": {},
   "outputs": [],
   "source": [
    "import functools\n",
    "import time\n",
    "\n",
    "def debug(func):\n",
    "    \"\"\"Print the function signature and return value\"\"\"\n",
    "    @functools.wraps(func)\n",
    "    def wrapper_debug(*args, **kwargs):\n",
    "        args_repr = [repr(a) for a in args]                      \n",
    "        # Create a list of the positional arguments. \n",
    "        # Use repr() to get a nice string representing each argument.\n",
    "        \n",
    "        kwargs_repr = [f\"{k}={v!r}\" for k, v in kwargs.items()]  \n",
    "        # Create a list of the positional arguments. \n",
    "        # Use repr() to get a nice string representing each argument.\n",
    "        # as key=value where the !r specifier means that repr() is used to \n",
    "        # represent the value.\n",
    "        \n",
    "        signature = \", \".join(args_repr + kwargs_repr)           \n",
    "        # The lists of positional and keyword arguments is joined together \n",
    "        # to one signature string with each argument separated by a comma.\n",
    "        \n",
    "        print(f\"Calling {func.__name__}({signature})\")\n",
    "        value = func(*args, **kwargs)\n",
    "        print(f\"{func.__name__!r} returned {value!r}\")           \n",
    "        # The return value is printed after the function is executed.\n",
    "        \n",
    "        return value\n",
    "    return wrapper_debug\n",
    "\n",
    "\n",
    "def timer(func):\n",
    "    \"\"\"Print the runtime of the decorated function\"\"\"\n",
    "    @functools.wraps(func)\n",
    "    def wrapper_timer(*args, **kwargs):\n",
    "        start_time = time.perf_counter()    # the time just before the function starts\n",
    "        value = func(*args, **kwargs)\n",
    "        end_time = time.perf_counter()      # the time just after the function finishes\n",
    "        run_time = end_time - start_time    # The time the function takes\n",
    "        print(f\"Finished {func.__name__!r} in {run_time:.4f} secs\")\n",
    "        return value\n",
    "    return wrapper_timer\n",
    "\n"
   ]
  },
  {
   "cell_type": "markdown",
   "metadata": {},
   "source": [
    "Let’s define a class where we decorate some of its methods using the @debug and @timer decorators from earlier:"
   ]
  },
  {
   "cell_type": "code",
   "execution_count": 20,
   "metadata": {},
   "outputs": [],
   "source": [
    "class TimeWaster:\n",
    "    @debug\n",
    "    def __init__(self, max_num):\n",
    "        self.max_num = max_num\n",
    "\n",
    "    @timer\n",
    "    def waste_time(self, num_times):\n",
    "        for _ in range(num_times):\n",
    "            sum([i**2 for i in range(self.max_num)])"
   ]
  },
  {
   "cell_type": "code",
   "execution_count": 21,
   "metadata": {},
   "outputs": [
    {
     "name": "stdout",
     "output_type": "stream",
     "text": [
      "Calling __init__(<__main__.TimeWaster object at 0x109a41110>, 1000)\n",
      "'__init__' returned None\n"
     ]
    }
   ],
   "source": [
    "tw = TimeWaster(1000)"
   ]
  },
  {
   "cell_type": "code",
   "execution_count": 22,
   "metadata": {},
   "outputs": [
    {
     "name": "stdout",
     "output_type": "stream",
     "text": [
      "Finished 'waste_time' in 0.2491 secs\n"
     ]
    }
   ],
   "source": [
    "tw.waste_time(999)"
   ]
  },
  {
   "cell_type": "markdown",
   "metadata": {},
   "source": [
    "The other way to use decorators on classes is to decorate the whole class. This is, for example, done in the new [dataclasses](https://realpython.com/python-data-classes/) module in Python 3.7:"
   ]
  },
  {
   "cell_type": "code",
   "execution_count": 23,
   "metadata": {},
   "outputs": [],
   "source": [
    "from dataclasses import dataclass\n",
    "\n",
    "@dataclass\n",
    "class DataClassCard:\n",
    "    rank: str\n",
    "    suit: str"
   ]
  },
  {
   "cell_type": "code",
   "execution_count": 26,
   "metadata": {},
   "outputs": [
    {
     "name": "stdout",
     "output_type": "stream",
     "text": [
      "Q\n"
     ]
    },
    {
     "data": {
      "text/plain": [
       "DataClassCard(rank='Q', suit='Hearts')"
      ]
     },
     "execution_count": 26,
     "metadata": {},
     "output_type": "execute_result"
    }
   ],
   "source": [
    "queen_of_hearts = DataClassCard('Q', 'Hearts')\n",
    "print(queen_of_hearts.rank)\n",
    "queen_of_hearts"
   ]
  },
  {
   "cell_type": "code",
   "execution_count": 27,
   "metadata": {},
   "outputs": [
    {
     "data": {
      "text/plain": [
       "True"
      ]
     },
     "execution_count": 27,
     "metadata": {},
     "output_type": "execute_result"
    }
   ],
   "source": [
    "queen_of_hearts == DataClassCard('Q', 'Hearts')"
   ]
  },
  {
   "cell_type": "code",
   "execution_count": 29,
   "metadata": {},
   "outputs": [],
   "source": [
    "# A minimal regular class would look something like this:\n",
    "class RegularCard:\n",
    "    def __init__(self, rank, suit):\n",
    "        self.rank = rank\n",
    "        self.suit = suit"
   ]
  },
  {
   "cell_type": "markdown",
   "metadata": {},
   "source": [
    "While this is not much more code to write, you can already see signs of the boilerplate pain: rank and suit are both repeated three times simply to initialize an object. Furthermore, if you try to use this plain class, you’ll notice that the representation of the objects is not very descriptive, and for some reason a queen of hearts is not the same as a queen of hearts:"
   ]
  },
  {
   "cell_type": "code",
   "execution_count": 30,
   "metadata": {},
   "outputs": [
    {
     "name": "stdout",
     "output_type": "stream",
     "text": [
      "Q\n",
      "False\n"
     ]
    },
    {
     "data": {
      "text/plain": [
       "<__main__.RegularCard at 0x109a4ed90>"
      ]
     },
     "execution_count": 30,
     "metadata": {},
     "output_type": "execute_result"
    }
   ],
   "source": [
    "queen_of_hearts = RegularCard('Q', 'Hearts')\n",
    "print(queen_of_hearts.rank)\n",
    "print(queen_of_hearts == RegularCard('Q', 'Hearts'))\n",
    "queen_of_hearts"
   ]
  },
  {
   "cell_type": "markdown",
   "metadata": {},
   "source": [
    "Seems like data classes are helping us out behind the scenes. By default, data classes implement a `.__repr__()` method to provide a nice string representation and an `.__eq__()` method that can do basic object comparisons. For the RegularCard class to imitate the data class above, you need to add these methods as well:"
   ]
  },
  {
   "cell_type": "code",
   "execution_count": 32,
   "metadata": {},
   "outputs": [],
   "source": [
    "class RegularCard:\n",
    "    def __init__(self, rank, suit):\n",
    "        self.rank = rank\n",
    "        self.suit = suit\n",
    "\n",
    "    def __repr__(self):\n",
    "        return (f'{self.__class__.__name__}'\n",
    "                f'(rank={self.rank!r}, suit={self.suit!r})')\n",
    "\n",
    "    def __eq__(self, other):\n",
    "        if other.__class__ is not self.__class__:\n",
    "            return NotImplemented\n",
    "        return (self.rank, self.suit) == (other.rank, other.suit)"
   ]
  },
  {
   "cell_type": "code",
   "execution_count": 33,
   "metadata": {},
   "outputs": [
    {
     "name": "stdout",
     "output_type": "stream",
     "text": [
      "Q\n",
      "True\n"
     ]
    },
    {
     "data": {
      "text/plain": [
       "RegularCard(rank='Q', suit='Hearts')"
      ]
     },
     "execution_count": 33,
     "metadata": {},
     "output_type": "execute_result"
    }
   ],
   "source": [
    "queen_of_hearts = RegularCard('Q', 'Hearts')\n",
    "print(queen_of_hearts.rank)\n",
    "print(queen_of_hearts == RegularCard('Q', 'Hearts'))\n",
    "queen_of_hearts"
   ]
  },
  {
   "cell_type": "markdown",
   "metadata": {},
   "source": [
    "A common use of class decorators is to be a simpler alternative to some use-cases of [metaclasses](https://realpython.com/python-metaclasses/). In both cases, you are changing the definition of a class dynamically.\n",
    "\n",
    "Writing a class decorator is very similar to writing a function decorator. The only difference is that the decorator will receive a class and not a function as an argument. In fact, all the decorators you saw above will work as class decorators. When you are using them on a class instead of a function, their effect might not be what you want. In the following example, the @timer decorator is applied to a class:"
   ]
  },
  {
   "cell_type": "code",
   "execution_count": 44,
   "metadata": {},
   "outputs": [],
   "source": [
    "def timer(func):\n",
    "    \"\"\"Print the runtime of the decorated function\"\"\"\n",
    "    @functools.wraps(func)\n",
    "    def wrapper_timer(*args, **kwargs):\n",
    "        start_time = time.perf_counter()    # the time just before the function starts\n",
    "        value = func(*args, **kwargs)\n",
    "        end_time = time.perf_counter()      # the time just after the function finishes\n",
    "        run_time = end_time - start_time    # The time the function takes\n",
    "        print(f\"Finished {func.__name__!r} in {run_time:.4f} secs\")\n",
    "        return value\n",
    "    return wrapper_timer\n",
    "\n",
    "\n",
    "@timer\n",
    "class TimeWaster:\n",
    "    def __init__(self, max_num):\n",
    "        self.max_num = max_num\n",
    "\n",
    "    def waste_time(self, num_times):\n",
    "        for _ in range(num_times):\n",
    "            sum([i**2 for i in range(self.max_num)])"
   ]
  },
  {
   "cell_type": "markdown",
   "metadata": {},
   "source": [
    "Decorating a class does not decorate its methods. Recall that @timer is just shorthand for TimeWaster = timer(TimeWaster).\n",
    "\n",
    "Here, @timer only measures the time it takes to instantiate the class:"
   ]
  },
  {
   "cell_type": "code",
   "execution_count": 45,
   "metadata": {},
   "outputs": [
    {
     "name": "stdout",
     "output_type": "stream",
     "text": [
      "Finished 'TimeWaster' in 0.0000 secs\n"
     ]
    }
   ],
   "source": [
    "tw = TimeWaster(1000)"
   ]
  },
  {
   "cell_type": "code",
   "execution_count": 46,
   "metadata": {},
   "outputs": [],
   "source": [
    "a = tw.waste_time(999)"
   ]
  },
  {
   "cell_type": "markdown",
   "metadata": {},
   "source": [
    "## Nesting Decorators\n",
    "You can apply several decorators to a function by stacking them on top of each other:"
   ]
  },
  {
   "cell_type": "code",
   "execution_count": 48,
   "metadata": {},
   "outputs": [],
   "source": [
    "import functools\n",
    "\n",
    "def debug(func):\n",
    "    \"\"\"Print the function signature and return value\"\"\"\n",
    "    @functools.wraps(func)\n",
    "    def wrapper_debug(*args, **kwargs):\n",
    "        args_repr = [repr(a) for a in args]                              \n",
    "        kwargs_repr = [f\"{k}={v!r}\" for k, v in kwargs.items()]          \n",
    "        signature = \", \".join(args_repr + kwargs_repr)                  \n",
    "        print(f\"Calling {func.__name__}({signature})\")\n",
    "        value = func(*args, **kwargs)\n",
    "        print(f\"{func.__name__!r} returned {value!r}\")                   \n",
    "        return value\n",
    "    return wrapper_debug\n",
    "\n",
    "def do_twice(func):\n",
    "    def wrapper_do_twice(*args, **kwargs):\n",
    "        func(*args, **kwargs)\n",
    "        func(*args, **kwargs)\n",
    "    return wrapper_do_twice\n",
    "\n",
    "@debug\n",
    "@do_twice\n",
    "def greet(name):\n",
    "    print(f\"Hello {name}\")"
   ]
  },
  {
   "cell_type": "code",
   "execution_count": 49,
   "metadata": {},
   "outputs": [
    {
     "name": "stdout",
     "output_type": "stream",
     "text": [
      "Calling wrapper_do_twice('Eva')\n",
      "Hello Eva\n",
      "Hello Eva\n",
      "'wrapper_do_twice' returned None\n"
     ]
    }
   ],
   "source": [
    "greet(\"Eva\")"
   ]
  },
  {
   "cell_type": "code",
   "execution_count": 51,
   "metadata": {},
   "outputs": [
    {
     "name": "stdout",
     "output_type": "stream",
     "text": [
      "Calling greet('Eva')\n",
      "Hello Eva\n",
      "'greet' returned None\n",
      "Calling greet('Eva')\n",
      "Hello Eva\n",
      "'greet' returned None\n"
     ]
    }
   ],
   "source": [
    "# Observe the difference if we change the order of @debug and @do_twice:\n",
    "@do_twice\n",
    "@debug\n",
    "def greet(name):\n",
    "    print(f\"Hello {name}\")\n",
    "\n",
    "greet(\"Eva\")"
   ]
  },
  {
   "cell_type": "markdown",
   "metadata": {},
   "source": [
    "## Decorators With Arguments\n",
    "Sometimes, it’s useful to **pass arguments to your decorators**. For instance, @do_twice could be extended to a @repeat(num_times) decorator. The number of times to execute the decorated function could then be given as an argument.\n",
    "\n",
    "This would allow you to do something like this:"
   ]
  },
  {
   "cell_type": "code",
   "execution_count": 52,
   "metadata": {},
   "outputs": [
    {
     "ename": "NameError",
     "evalue": "name 'repeat' is not defined",
     "output_type": "error",
     "traceback": [
      "\u001b[0;31m---------------------------------------------------------------------------\u001b[0m",
      "\u001b[0;31mNameError\u001b[0m                                 Traceback (most recent call last)",
      "\u001b[0;32m<ipython-input-52-e12c222b3329>\u001b[0m in \u001b[0;36m<module>\u001b[0;34m\u001b[0m\n\u001b[0;32m----> 1\u001b[0;31m \u001b[0;34m@\u001b[0m\u001b[0mrepeat\u001b[0m\u001b[0;34m(\u001b[0m\u001b[0mnum_times\u001b[0m\u001b[0;34m=\u001b[0m\u001b[0;36m4\u001b[0m\u001b[0;34m)\u001b[0m\u001b[0;34m\u001b[0m\u001b[0;34m\u001b[0m\u001b[0m\n\u001b[0m\u001b[1;32m      2\u001b[0m \u001b[0;32mdef\u001b[0m \u001b[0mgreet\u001b[0m\u001b[0;34m(\u001b[0m\u001b[0mname\u001b[0m\u001b[0;34m)\u001b[0m\u001b[0;34m:\u001b[0m\u001b[0;34m\u001b[0m\u001b[0;34m\u001b[0m\u001b[0m\n\u001b[1;32m      3\u001b[0m     \u001b[0mprint\u001b[0m\u001b[0;34m(\u001b[0m\u001b[0;34mf\"Hello {name}\"\u001b[0m\u001b[0;34m)\u001b[0m\u001b[0;34m\u001b[0m\u001b[0;34m\u001b[0m\u001b[0m\n",
      "\u001b[0;31mNameError\u001b[0m: name 'repeat' is not defined"
     ]
    }
   ],
   "source": [
    "@repeat(num_times=4)\n",
    "def greet(name):\n",
    "    print(f\"Hello {name}\")"
   ]
  },
  {
   "cell_type": "markdown",
   "metadata": {},
   "source": [
    "So far, the name written after the @ has referred to a function object that can be called with another function. To be consistent, you then need repeat(num_times=4) to return a function object that can act as a decorator. Luckily, you already know how to return functions! In general, you want something like the following:\n",
    "\n"
   ]
  },
  {
   "cell_type": "code",
   "execution_count": 56,
   "metadata": {},
   "outputs": [],
   "source": [
    "def repeat(num_times):\n",
    "    def repeat_decortor(func):\n",
    "        def wrapper_repeat_decortor(*args, **kwargs):\n",
    "            for i in range(num_times):\n",
    "                func(*args, **kwargs)\n",
    "        return wrapper_repeat_decortor\n",
    "    return repeat_decortor\n",
    "\n"
   ]
  },
  {
   "cell_type": "code",
   "execution_count": 57,
   "metadata": {},
   "outputs": [],
   "source": [
    "@repeat(num_times=4)\n",
    "def greet(name):\n",
    "    print(f\"Hello {name}\")"
   ]
  },
  {
   "cell_type": "code",
   "execution_count": 58,
   "metadata": {},
   "outputs": [
    {
     "name": "stdout",
     "output_type": "stream",
     "text": [
      "Hello aa\n",
      "Hello aa\n",
      "Hello aa\n",
      "Hello aa\n"
     ]
    }
   ],
   "source": [
    "greet('aa')"
   ]
  },
  {
   "cell_type": "markdown",
   "metadata": {},
   "source": [
    "Typically, the decorator creates and returns an inner wrapper function, so writing the example out in full will give you an inner function within an inner function. While this might sound like the programming equivalent of the Inception movie, we’ll untangle it all in a moment:"
   ]
  },
  {
   "cell_type": "code",
   "execution_count": 60,
   "metadata": {},
   "outputs": [],
   "source": [
    "def repeat(num_times):\n",
    "    def decorator_repeat(func):\n",
    "        @functools.wraps(func)\n",
    "        def wrapper_repeat(*args, **kwargs):\n",
    "            for _ in range(num_times):\n",
    "                value = func(*args, **kwargs)\n",
    "            return value\n",
    "        return wrapper_repeat\n",
    "    return decorator_repeat"
   ]
  },
  {
   "cell_type": "markdown",
   "metadata": {},
   "source": [
    "It looks a little messy, but we have only put the same decorator pattern you have seen many times by now inside one additional def that handles the arguments to the decorator. Let’s start with the innermost function:\n",
    "\n",
    "```python\n",
    "def wrapper_repeat(*args, **kwargs):\n",
    "    for _ in range(num_times):\n",
    "        value = func(*args, **kwargs)\n",
    "    return value\n",
    "```\n",
    "\n",
    "This wrapper_repeat() function takes arbitrary arguments and returns the value of the decorated function, func(). This wrapper function also contains the loop that calls the decorated function num_times times. This is no different from the earlier wrapper functions you have seen, except that it is using the num_times parameter that must be supplied from the outside.\n",
    "\n",
    "One step out, you’ll find the decorator function:\n",
    "\n",
    "```python\n",
    "def decorator_repeat(func):\n",
    "    @functools.wraps(func)\n",
    "    def wrapper_repeat(*args, **kwargs):\n",
    "        ...\n",
    "    return wrapper_repeat\n",
    "```\n",
    "Again, decorator_repeat() looks exactly like the decorator functions you have written earlier, except that it’s named differently. That’s because we reserve the base name—repeat()—for the outermost function, which is the one the user will call.\n",
    "\n",
    "As you have already seen, the outermost function returns a reference to the decorator function:\n",
    "```python\n",
    "def repeat(num_times):\n",
    "    def decorator_repeat(func):\n",
    "        ...\n",
    "    return decorator_repeat\n",
    "```\n",
    "There are a few subtle things happening in the repeat() function:\n",
    "\n",
    "- Defining decorator_repeat() as an inner function means that repeat() will refer to a function object—decorator_repeat. Earlier, we used repeat without parentheses to refer to the function object. The added parentheses are necessary when defining decorators that take arguments.\n",
    "- The num_times argument is seemingly not used in repeat() itself. But by passing num_times a closure is created where the value of num_times is stored until it will be used later by wrapper_repeat()."
   ]
  },
  {
   "cell_type": "code",
   "execution_count": 61,
   "metadata": {},
   "outputs": [],
   "source": [
    "import functools\n",
    "\n",
    "def repeat(num_times):\n",
    "    def decorator_repeat(func):\n",
    "        @functools.wraps(func)\n",
    "        def wrapper_repeat(*args, **kwargs):\n",
    "            for _ in range(num_times):\n",
    "                value = func(*args, **kwargs)\n",
    "            return value\n",
    "        return wrapper_repeat\n",
    "    return decorator_repeat"
   ]
  },
  {
   "cell_type": "code",
   "execution_count": 62,
   "metadata": {},
   "outputs": [
    {
     "name": "stdout",
     "output_type": "stream",
     "text": [
      "Hello World\n",
      "Hello World\n",
      "Hello World\n",
      "Hello World\n"
     ]
    }
   ],
   "source": [
    "@repeat(num_times=4)\n",
    "def greet(name):\n",
    "    print(f\"Hello {name}\")\n",
    "    \n",
    "greet(\"World\")"
   ]
  },
  {
   "cell_type": "markdown",
   "metadata": {},
   "source": [
    "## Both Please, But Never Mind the Bread\n",
    "With a little bit of care, you can also define decorators that can be used both with and without arguments. Most likely, you don’t need this, but it is nice to have the flexibility.\n",
    "\n",
    "As you saw in the previous section, when a decorator uses arguments, you need to add an extra outer function. The challenge is for your code to figure out if the decorator has been called with or without arguments.\n",
    "\n",
    "Since the function to decorate is only passed in directly if the decorator is called without arguments, the function must be an optional argument. This means that the decorator arguments must all be specified by keyword. You can enforce this with the special * syntax, which means that all following parameters are keyword-only:\n",
    "\n",
    "```python\n",
    "def name(_func=None, *, kw1=val1, kw2=val2, ...):  # 1\n",
    "    def decorator_name(func):\n",
    "        ...  # Create and return a wrapper function.\n",
    "\n",
    "    if _func is None:\n",
    "        return decorator_name                      # 2\n",
    "    else:\n",
    "        return decorator_name(_func)               # 3\n",
    "```\n",
    "\n",
    "Here, the _func argument acts as a marker, noting whether the decorator has been called with arguments or not:\n",
    "\n",
    "1. If name has been called without arguments, the decorated function will be passed in as _func. If it has been called with arguments, then _func will be None, and some of the keyword arguments may have been changed from their default values. The * in the argument list means that the remaining arguments can’t be called as positional arguments.\n",
    "2. In this case, the decorator was called with arguments. Return a decorator function that can read and return a function.\n",
    "3. In this case, the decorator was called without arguments. Apply the decorator to the function immediately.\n",
    "\n",
    "Using this boilerplate on the @repeat decorator in the previous section, you can write the following:"
   ]
  },
  {
   "cell_type": "code",
   "execution_count": 63,
   "metadata": {},
   "outputs": [],
   "source": [
    "def repeat(_func=None, *, num_times=2):\n",
    "    def decorator_repeat(func):\n",
    "        @functools.wraps(func)\n",
    "        def wrapper_repeat(*args, **kwargs):\n",
    "            for _ in range(num_times):\n",
    "                value = func(*args, **kwargs)\n",
    "            return value\n",
    "        return wrapper_repeat\n",
    "\n",
    "    if _func is None:\n",
    "        return decorator_repeat\n",
    "    else:\n",
    "        return decorator_repeat(_func)"
   ]
  },
  {
   "cell_type": "markdown",
   "metadata": {},
   "source": [
    "Compare this with the original @repeat. The only changes are the added _func parameter and the if-else at the end."
   ]
  },
  {
   "cell_type": "code",
   "execution_count": 66,
   "metadata": {},
   "outputs": [],
   "source": [
    "@repeat\n",
    "def say_whee():\n",
    "    print(\"Whee!\")\n",
    "\n",
    "@repeat(num_times=3)\n",
    "def greet(name):\n",
    "    print(f\"Hello {name}\")"
   ]
  },
  {
   "cell_type": "markdown",
   "metadata": {},
   "source": [
    "## Stateful Decorators\n",
    "Sometimes, it’s useful to have a decorator that can keep track of state. As a simple example, we will create a decorator that counts the number of times a function is called.\n",
    "\n",
    "```text\n",
    "Note: In the beginning of this guide, we talked about pure functions returning a value based on given arguments. Stateful decorators are quite the opposite, where the return value will depend on the current state, as well as the given arguments.\n",
    "```\n",
    "In the next section, you will see how to use classes to keep state. But in simple cases, you can also get away with using function attributes:"
   ]
  },
  {
   "cell_type": "code",
   "execution_count": 72,
   "metadata": {},
   "outputs": [],
   "source": [
    "import functools\n",
    "\n",
    "def count_calls(func):\n",
    "    @functools.wraps(func)\n",
    "    def wrapper_count_calls(*args, **kwargs):\n",
    "        wrapper_count_calls.num_calls += 1\n",
    "        print(f\"Call {wrapper_count_calls.num_calls} of {func.__name__!r}\")\n",
    "        return func(*args, **kwargs)\n",
    "    wrapper_count_calls.num_calls = 0\n",
    "    return wrapper_count_calls\n",
    "\n",
    "@count_calls\n",
    "def say_whee():\n",
    "    print(\"Whee!\")"
   ]
  },
  {
   "cell_type": "markdown",
   "metadata": {},
   "source": [
    "The state—the number of calls to the function—is stored in the function attribute .num_calls on the wrapper function. Here is the effect of using it:"
   ]
  },
  {
   "cell_type": "code",
   "execution_count": 73,
   "metadata": {},
   "outputs": [
    {
     "name": "stdout",
     "output_type": "stream",
     "text": [
      "Call 1 of 'say_whee'\n",
      "Whee!\n"
     ]
    }
   ],
   "source": [
    "say_whee()"
   ]
  },
  {
   "cell_type": "code",
   "execution_count": 74,
   "metadata": {},
   "outputs": [
    {
     "name": "stdout",
     "output_type": "stream",
     "text": [
      "Call 2 of 'say_whee'\n",
      "Whee!\n"
     ]
    }
   ],
   "source": [
    "say_whee()"
   ]
  },
  {
   "cell_type": "code",
   "execution_count": 75,
   "metadata": {},
   "outputs": [
    {
     "data": {
      "text/plain": [
       "2"
      ]
     },
     "execution_count": 75,
     "metadata": {},
     "output_type": "execute_result"
    }
   ],
   "source": [
    "say_whee.num_calls"
   ]
  },
  {
   "cell_type": "markdown",
   "metadata": {},
   "source": [
    "## Classes as Decorators\n",
    "The typical way to maintain state is by using classes. In this section, you’ll see how to rewrite the @count_calls example from the previous section using a class as a decorator.\n",
    "\n",
    "Recall that the decorator syntax @my_decorator is just an easier way of saying func = my_decorator(func). Therefore, if my_decorator is a class, it needs to take func as an argument in its .__init__() method. Furthermore, the class needs to be callable so that it can stand in for the decorated function.\n",
    "\n",
    "For a class to be callable, you implement the special .__call__() method:"
   ]
  },
  {
   "cell_type": "code",
   "execution_count": 79,
   "metadata": {},
   "outputs": [],
   "source": [
    "class Counter:\n",
    "    def __init__(self, start=0):\n",
    "        self.count = start\n",
    "\n",
    "    def __call__(self):\n",
    "        self.count += 1\n",
    "        print(f\"Current count is {self.count}\")"
   ]
  },
  {
   "cell_type": "markdown",
   "metadata": {},
   "source": [
    "The `.__call__()` method is executed each time you try to call an instance of the class:"
   ]
  },
  {
   "cell_type": "code",
   "execution_count": 80,
   "metadata": {},
   "outputs": [
    {
     "name": "stdout",
     "output_type": "stream",
     "text": [
      "Current count is 5\n"
     ]
    }
   ],
   "source": [
    "counter = Counter(4)\n",
    "counter()"
   ]
  },
  {
   "cell_type": "code",
   "execution_count": 81,
   "metadata": {},
   "outputs": [
    {
     "name": "stdout",
     "output_type": "stream",
     "text": [
      "Current count is 6\n"
     ]
    }
   ],
   "source": [
    "counter()"
   ]
  },
  {
   "cell_type": "markdown",
   "metadata": {},
   "source": [
    "Therefore, a typical implementation of a decorator class needs to implement `.__init__()` and `.__call__()`:\n",
    "\n"
   ]
  },
  {
   "cell_type": "code",
   "execution_count": 82,
   "metadata": {},
   "outputs": [],
   "source": [
    "import functools\n",
    "\n",
    "class CountCalls:\n",
    "    def __init__(self, func):\n",
    "        functools.update_wrapper(self, func)\n",
    "        self.func = func\n",
    "        self.num_calls = 0\n",
    "\n",
    "    def __call__(self, *args, **kwargs):\n",
    "        self.num_calls += 1\n",
    "        print(f\"Call {self.num_calls} of {self.func.__name__!r}\")\n",
    "        return self.func(*args, **kwargs)\n",
    "\n",
    "@CountCalls\n",
    "def say_whee():\n",
    "    print(\"Whee!\")"
   ]
  },
  {
   "cell_type": "markdown",
   "metadata": {},
   "source": [
    "The `.__init__()` method must store a reference to the function and can do any other necessary initialization. The `.__call__()` method will be called instead of the decorated function. It does essentially the same thing as the wrapper() function in our earlier examples. Note that you need to use the functools.update_wrapper() function instead of @functools.wraps.\n",
    "\n",
    "This @CountCalls decorator works the same as the one in the previous section:"
   ]
  },
  {
   "cell_type": "code",
   "execution_count": 83,
   "metadata": {},
   "outputs": [
    {
     "name": "stdout",
     "output_type": "stream",
     "text": [
      "Call 1 of 'say_whee'\n",
      "Whee!\n"
     ]
    }
   ],
   "source": [
    "say_whee()"
   ]
  },
  {
   "cell_type": "code",
   "execution_count": 84,
   "metadata": {},
   "outputs": [
    {
     "name": "stdout",
     "output_type": "stream",
     "text": [
      "Call 2 of 'say_whee'\n",
      "Whee!\n"
     ]
    }
   ],
   "source": [
    "say_whee()"
   ]
  },
  {
   "cell_type": "code",
   "execution_count": 85,
   "metadata": {},
   "outputs": [
    {
     "data": {
      "text/plain": [
       "2"
      ]
     },
     "execution_count": 85,
     "metadata": {},
     "output_type": "execute_result"
    }
   ],
   "source": [
    "say_whee.num_calls"
   ]
  },
  {
   "cell_type": "code",
   "execution_count": null,
   "metadata": {},
   "outputs": [],
   "source": []
  }
 ],
 "metadata": {
  "kernelspec": {
   "display_name": "Python 3",
   "language": "python",
   "name": "python3"
  },
  "language_info": {
   "codemirror_mode": {
    "name": "ipython",
    "version": 3
   },
   "file_extension": ".py",
   "mimetype": "text/x-python",
   "name": "python",
   "nbconvert_exporter": "python",
   "pygments_lexer": "ipython3",
   "version": "3.7.5"
  }
 },
 "nbformat": 4,
 "nbformat_minor": 4
}
