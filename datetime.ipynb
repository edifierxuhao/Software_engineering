{
 "cells": [
  {
   "cell_type": "markdown",
   "metadata": {},
   "source": [
    "# datetime — Basic date and time types\n",
    "\n",
    "The datetime module supplies classes for manipulating dates and times.\n",
    "\n",
    "While date and time arithmetic is supported, the focus of the implementation is on efficient attribute extraction for output formatting and manipulation.\n",
    "\n",
    "## Aware and Naive Objects\n",
    "Date and time objects may be categorized as **“aware” or “naive.”**\n",
    "\n",
    "With sufficient knowledge of applicable algorithmic and political time adjustments, such as time zone and daylight saving time information, an **aware** object can locate itself relative to other aware objects. An aware object represents a specific moment in time that is not open to interpretation. 1\n",
    "\n",
    "A **naive** object does not contain enough information to unambiguously locate itself relative to other date/time objects. Whether a naive object represents Coordinated Universal Time (UTC), local time, or time in some other timezone is purely up to the program, just like it is up to the program whether a particular number represents metres, miles, or mass. Naive objects are easy to understand and to work with, at the cost of ignoring some aspects of reality.\n",
    "\n",
    "For applications requiring aware objects, datetime and time objects have an optional time zone information attribute, tzinfo, that can be set to an instance of a subclass of the abstract tzinfo class. These tzinfo objects capture information about the offset from UTC time, the time zone name, and whether daylight saving time is in effect.\n",
    "\n",
    "Only one concrete tzinfo class, the timezone class, is supplied by the datetime module. The timezone class can represent simple timezones with fixed offsets from UTC, such as UTC itself or North American EST and EDT timezones. Supporting timezones at deeper levels of detail is up to the application. The rules for time adjustment across the world are more political than rational, change frequently, and there is no standard suitable for every application aside from UTC."
   ]
  },
  {
   "cell_type": "code",
   "execution_count": 1,
   "metadata": {},
   "outputs": [
    {
     "name": "stdout",
     "output_type": "stream",
     "text": [
      "2020-02-28 16:00:20.166800\n"
     ]
    }
   ],
   "source": [
    "import datetime\n",
    "\n",
    "datetime_object = datetime.datetime.now()\n",
    "print(datetime_object)"
   ]
  },
  {
   "cell_type": "code",
   "execution_count": 2,
   "metadata": {},
   "outputs": [
    {
     "name": "stdout",
     "output_type": "stream",
     "text": [
      "2020-02-28\n"
     ]
    }
   ],
   "source": [
    "import datetime\n",
    "\n",
    "date_object = datetime.date.today()\n",
    "print(date_object)"
   ]
  },
  {
   "cell_type": "code",
   "execution_count": 3,
   "metadata": {},
   "outputs": [
    {
     "name": "stdout",
     "output_type": "stream",
     "text": [
      "['MAXYEAR', 'MINYEAR', '__builtins__', '__cached__', '__doc__', '__file__', '__loader__', '__name__', '__package__', '__spec__', 'date', 'datetime', 'datetime_CAPI', 'sys', 'time', 'timedelta', 'timezone', 'tzinfo']\n"
     ]
    }
   ],
   "source": [
    "import datetime\n",
    "\n",
    "print(dir(datetime))"
   ]
  },
  {
   "cell_type": "code",
   "execution_count": 4,
   "metadata": {},
   "outputs": [
    {
     "name": "stdout",
     "output_type": "stream",
     "text": [
      "2019-04-13\n"
     ]
    }
   ],
   "source": [
    "\n",
    "import datetime\n",
    "\n",
    "d = datetime.date(2019, 4, 13)\n",
    "print(d)"
   ]
  },
  {
   "cell_type": "markdown",
   "metadata": {},
   "source": [
    "## Constants\n",
    "The datetime module exports the following constants:"
   ]
  },
  {
   "cell_type": "code",
   "execution_count": 5,
   "metadata": {},
   "outputs": [
    {
     "data": {
      "text/plain": [
       "1"
      ]
     },
     "execution_count": 5,
     "metadata": {},
     "output_type": "execute_result"
    }
   ],
   "source": [
    "import datetime\n",
    "datetime.MINYEAR"
   ]
  },
  {
   "cell_type": "code",
   "execution_count": 7,
   "metadata": {},
   "outputs": [
    {
     "data": {
      "text/plain": [
       "9999"
      ]
     },
     "execution_count": 7,
     "metadata": {},
     "output_type": "execute_result"
    }
   ],
   "source": [
    "datetime.MAXYEAR"
   ]
  },
  {
   "cell_type": "markdown",
   "metadata": {},
   "source": [
    "## Available Types\n",
    "\n",
    "#### class datetime.date\n",
    "An idealized naive date, assuming the current Gregorian calendar always was, and always will be, in effect. Attributes: year, month, and day.\n",
    "\n",
    "#### class datetime.time\n",
    "An idealized time, independent of any particular day, assuming that every day has exactly 24*60*60 seconds. (There is no notion of “leap seconds” here.) Attributes: hour, minute, second, microsecond, and tzinfo.\n",
    "\n",
    "#### class datetime.datetime\n",
    "A combination of a date and a time. Attributes: year, month, day, hour, minute, second, microsecond, and tzinfo.\n",
    "\n",
    "#### class datetime.timedelta\n",
    "A duration expressing the difference between two date, time, or datetime instances to microsecond resolution.\n",
    "\n",
    "#### class datetime.tzinfo\n",
    "An abstract base class for time zone information objects. These are used by the datetime and time classes to provide a customizable notion of time adjustment (for example, to account for time zone and/or daylight saving time).\n",
    "\n",
    "#### class datetime.timezone\n",
    "A class that implements the tzinfo abstract base class as a fixed offset from the UTC.\n",
    "\n",
    "Objects of these types are immutable.\n",
    "\n",
    "## Common Properties\n",
    "The date, datetime, time, and timezone types share these common features:\n",
    "\n",
    "Objects of these types are immutable.\n",
    "\n",
    "Objects of these types are hashable, meaning that they can be used as dictionary keys.\n",
    "\n",
    "Objects of these types support efficient pickling via the pickle module."
   ]
  },
  {
   "cell_type": "markdown",
   "metadata": {},
   "source": [
    "## Determining if an Object is Aware or Naive\n",
    "Objects of the date type are always naive.\n",
    "\n",
    "An object of type time or datetime may be aware or naive.\n",
    "\n",
    "A datetime object d is aware if both of the following hold:\n",
    "\n",
    "1. d.tzinfo is not None\n",
    "\n",
    "2. d.tzinfo.utcoffset(d) does not return None\n",
    "\n",
    "Otherwise, d is naive.\n",
    "\n",
    "A time object t is aware if both of the following hold:\n",
    "\n",
    "1. t.tzinfo is not None\n",
    "\n",
    "2. t.tzinfo.utcoffset(None) does not return None.\n",
    "\n",
    "Otherwise, t is naive.\n",
    "\n",
    "The distinction between aware and naive doesn’t apply to timedelta objects."
   ]
  },
  {
   "cell_type": "markdown",
   "metadata": {},
   "source": [
    "## timedelta Objects\n",
    "A timedelta object represents a duration, the difference between two dates or times.\n",
    "\n",
    "class datetime.timedelta(days=0, seconds=0, microseconds=0, milliseconds=0, minutes=0, hours=0, weeks=0)\n",
    "All arguments are optional and default to 0. Arguments may be integers or floats, and may be positive or negative.\n",
    "\n",
    "Only days, seconds and microseconds are stored internally. Arguments are converted to those units:\n",
    "\n",
    "- A millisecond is converted to 1000 microseconds.\n",
    "- A minute is converted to 60 seconds.\n",
    "- An hour is converted to 3600 seconds.\n",
    "- A week is converted to 7 days.\n",
    "\n",
    "and days, seconds and microseconds are then normalized so that the representation is unique, with\n",
    "\n",
    "- 0 <= microseconds < 1000000\n",
    "- 0 <= seconds < 3600*24 (the number of seconds in one day)\n",
    "- -999999999 <= days <= 999999999\n",
    "\n",
    "The following example illustrates how any arguments besides days, seconds and microseconds are “merged” and normalized into those three resulting attributes:"
   ]
  },
  {
   "cell_type": "code",
   "execution_count": 8,
   "metadata": {},
   "outputs": [
    {
     "data": {
      "text/plain": [
       "datetime.timedelta(days=64, seconds=29156, microseconds=10)"
      ]
     },
     "execution_count": 8,
     "metadata": {},
     "output_type": "execute_result"
    }
   ],
   "source": [
    "from datetime import timedelta\n",
    "delta = timedelta(\n",
    "                days=50,\n",
    "                seconds=27,\n",
    "                microseconds=10,\n",
    "                milliseconds=29000,\n",
    "                minutes=5,\n",
    "                hours=8,\n",
    "                weeks=2\n",
    "                )\n",
    "# Only days, seconds, and microseconds remain\n",
    "delta\n"
   ]
  },
  {
   "cell_type": "markdown",
   "metadata": {},
   "source": [
    "If any argument is a float and there are fractional microseconds, the fractional microseconds left over from all arguments are combined and their sum is rounded to the nearest microsecond using round-half-to-even tiebreaker. If no argument is a float, the conversion and normalization processes are exact (no information is lost).\n",
    "\n",
    "If the normalized value of days lies outside the indicated range, OverflowError is raised.\n",
    "\n",
    "Note that normalization of negative values may be surprising at first. For example:"
   ]
  },
  {
   "cell_type": "code",
   "execution_count": 9,
   "metadata": {},
   "outputs": [
    {
     "data": {
      "text/plain": [
       "(-1, 86399, 999999)"
      ]
     },
     "execution_count": 9,
     "metadata": {},
     "output_type": "execute_result"
    }
   ],
   "source": [
    "from datetime import timedelta\n",
    "d = timedelta(microseconds=-1)\n",
    "(d.days, d.seconds, d.microseconds)"
   ]
  },
  {
   "cell_type": "code",
   "execution_count": 10,
   "metadata": {},
   "outputs": [
    {
     "data": {
      "text/plain": [
       "datetime.timedelta(days=-999999999)"
      ]
     },
     "execution_count": 10,
     "metadata": {},
     "output_type": "execute_result"
    }
   ],
   "source": [
    "# The most negative timedelta object\n",
    "timedelta.min"
   ]
  },
  {
   "cell_type": "code",
   "execution_count": 11,
   "metadata": {},
   "outputs": [
    {
     "data": {
      "text/plain": [
       "datetime.timedelta(days=999999999, seconds=86399, microseconds=999999)"
      ]
     },
     "execution_count": 11,
     "metadata": {},
     "output_type": "execute_result"
    }
   ],
   "source": [
    "# The most positive timedelta object\n",
    "timedelta.max"
   ]
  },
  {
   "cell_type": "code",
   "execution_count": 12,
   "metadata": {},
   "outputs": [
    {
     "data": {
      "text/plain": [
       "datetime.timedelta(microseconds=1)"
      ]
     },
     "execution_count": 12,
     "metadata": {},
     "output_type": "execute_result"
    }
   ],
   "source": [
    "# The smallest possible difference between non-equal timedelta objects, timedelta(microseconds=1)\n",
    "timedelta.resolution"
   ]
  },
  {
   "cell_type": "code",
   "execution_count": 14,
   "metadata": {},
   "outputs": [
    {
     "data": {
      "text/plain": [
       "5558756.00001"
      ]
     },
     "execution_count": 14,
     "metadata": {},
     "output_type": "execute_result"
    }
   ],
   "source": [
    "delta.total_seconds()"
   ]
  },
  {
   "cell_type": "code",
   "execution_count": 15,
   "metadata": {},
   "outputs": [
    {
     "name": "stdout",
     "output_type": "stream",
     "text": [
      "True\n"
     ]
    },
    {
     "data": {
      "text/plain": [
       "31536000.0"
      ]
     },
     "execution_count": 15,
     "metadata": {},
     "output_type": "execute_result"
    }
   ],
   "source": [
    "from datetime import timedelta\n",
    "year = timedelta(days=365)\n",
    "another_year = timedelta(weeks=40, days=84, hours=23,\n",
    "                         minutes=50, seconds=600)\n",
    "print(year == another_year)\n",
    "\n",
    "year.total_seconds()"
   ]
  },
  {
   "cell_type": "code",
   "execution_count": 16,
   "metadata": {},
   "outputs": [
    {
     "data": {
      "text/plain": [
       "datetime.timedelta(days=3650)"
      ]
     },
     "execution_count": 16,
     "metadata": {},
     "output_type": "execute_result"
    }
   ],
   "source": [
    "from datetime import timedelta\n",
    "year = timedelta(days=365)\n",
    "ten_years = 10 * year\n",
    "ten_years"
   ]
  },
  {
   "cell_type": "code",
   "execution_count": 22,
   "metadata": {},
   "outputs": [
    {
     "data": {
      "text/plain": [
       "datetime.timedelta(days=7)"
      ]
     },
     "execution_count": 22,
     "metadata": {},
     "output_type": "execute_result"
    }
   ],
   "source": [
    "timedelta(weeks = 1)"
   ]
  },
  {
   "cell_type": "markdown",
   "metadata": {},
   "source": [
    "## date Objects\n",
    "A date object represents a date (year, month and day) in an idealized calendar, the current Gregorian calendar indefinitely extended in both directions.\n",
    "\n",
    "January 1 of year 1 is called day number 1, January 2 of year 1 is called day number 2, and so on. 2\n",
    "\n"
   ]
  },
  {
   "cell_type": "code",
   "execution_count": 23,
   "metadata": {},
   "outputs": [
    {
     "data": {
      "text/plain": [
       "datetime.date(2020, 2, 28)"
      ]
     },
     "execution_count": 23,
     "metadata": {},
     "output_type": "execute_result"
    }
   ],
   "source": [
    "import time\n",
    "from datetime import date\n",
    "today = date.today()\n",
    "today"
   ]
  },
  {
   "cell_type": "code",
   "execution_count": 24,
   "metadata": {},
   "outputs": [
    {
     "data": {
      "text/plain": [
       "True"
      ]
     },
     "execution_count": 24,
     "metadata": {},
     "output_type": "execute_result"
    }
   ],
   "source": [
    "today == date.fromtimestamp(time.time())"
   ]
  },
  {
   "cell_type": "code",
   "execution_count": 27,
   "metadata": {},
   "outputs": [
    {
     "data": {
      "text/plain": [
       "datetime.date(2021, 1, 1)"
      ]
     },
     "execution_count": 27,
     "metadata": {},
     "output_type": "execute_result"
    }
   ],
   "source": [
    "my_birthday = date(today.year, 1, 1)\n",
    "if my_birthday < today:\n",
    "    my_birthday = my_birthday.replace(year=today.year + 1)\n",
    "my_birthday"
   ]
  },
  {
   "cell_type": "code",
   "execution_count": 28,
   "metadata": {},
   "outputs": [
    {
     "data": {
      "text/plain": [
       "308"
      ]
     },
     "execution_count": 28,
     "metadata": {},
     "output_type": "execute_result"
    }
   ],
   "source": [
    "time_to_birthday = abs(my_birthday - today)\n",
    "time_to_birthday.days"
   ]
  },
  {
   "cell_type": "code",
   "execution_count": null,
   "metadata": {},
   "outputs": [],
   "source": []
  }
 ],
 "metadata": {
  "kernelspec": {
   "display_name": "Python 3",
   "language": "python",
   "name": "python3"
  },
  "language_info": {
   "codemirror_mode": {
    "name": "ipython",
    "version": 3
   },
   "file_extension": ".py",
   "mimetype": "text/x-python",
   "name": "python",
   "nbconvert_exporter": "python",
   "pygments_lexer": "ipython3",
   "version": "3.7.5"
  }
 },
 "nbformat": 4,
 "nbformat_minor": 4
}
