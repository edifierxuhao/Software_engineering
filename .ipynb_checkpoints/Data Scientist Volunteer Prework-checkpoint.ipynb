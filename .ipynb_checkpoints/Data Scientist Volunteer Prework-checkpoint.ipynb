{
 "cells": [
  {
   "cell_type": "markdown",
   "metadata": {},
   "source": [
    "## 1. What is data privacy? What is PII Data? How you will prevent any privacy breach when working with sensitive data?"
   ]
  },
  {
   "cell_type": "code",
   "execution_count": null,
   "metadata": {},
   "outputs": [],
   "source": []
  },
  {
   "cell_type": "markdown",
   "metadata": {},
   "source": [
    "## 2.Explain how a data scientist can help to leverage the charity business by referring to personalized engagement? To answer this question, please use the attached $1^{st}$ research paper titled: “Clustering Consumers Based on Trust, Confidence and Giving Behaviour”."
   ]
  },
  {
   "cell_type": "markdown",
   "metadata": {},
   "source": [
    "需要和客户捐不捐款竞争\n",
    "This trend however, has be- come even more important in the modern interconnected world where consumers’ time is sparser, globalisation has brought consumers and institutions together globally as well as in- creased competition between institutions for consumer’s time and money\n",
    "\n",
    "又要与同行竞争\n",
    "Organisations in the Not-for-Profit and charity sector face increasing competition to win time, money and efforts from a common donor base. The increased level of communications between indi- viduals and organisations today, heightens the need for investigating the drivers of charita- ble giving and understanding the various consumer groups, or donor segments, within a population. \n",
    "\n",
    "市场细分的研究变得很重要\n",
    "As in the case for businesses, ef- fective market segmentation should allow charities and NFP’s to customise the message con- tent of their appeals and campaigns to distinct groups of prospective donors . In doing so, identifying and selectively targeting the most likely individuals, or groups of giving individuals, would optimise the ratio of successful approaches to total number of approaches 。\n",
    "\n",
    "市场研究预算很有限\n",
    "due to the philanthropic nature of charities and not-for-profits, funds are limited; particularly funds for marketing research and administrative costs. In this sense, we believe that this research adds a valuable contribution to the literature by utilising advanced research techniques in a not-for-profit context helping charities and NFP organisations to better understand the Australian donor market.\n",
    "\n",
    "现在数据很多，数据科学家可以利用市场上的数据，已极小的成本获得统计上的明显的规律，用于\n"
   ]
  },
  {
   "cell_type": "markdown",
   "metadata": {},
   "source": [
    "## 3. Can you think a way to link the attached $2^{nd}$ paper titled: “The five-dimensional curiosity scale” to leverage your answer in Q.2 in marketing perspective?"
   ]
  },
  {
   "cell_type": "code",
   "execution_count": null,
   "metadata": {},
   "outputs": [],
   "source": []
  },
  {
   "cell_type": "markdown",
   "metadata": {},
   "source": [
    "## 4-6. present 5 most important graphs you identified. Add a Markdown description explaining why you think those graphs are important. Based on the descriptive analysis you presented, state 5 statistically important hypothesis you found interesting to charity."
   ]
  },
  {
   "cell_type": "code",
   "execution_count": null,
   "metadata": {},
   "outputs": [],
   "source": []
  },
  {
   "cell_type": "markdown",
   "metadata": {},
   "source": [
    "## 7. What is the null hypothesis in Statistics? What is p-value?"
   ]
  },
  {
   "cell_type": "code",
   "execution_count": null,
   "metadata": {},
   "outputs": [],
   "source": []
  },
  {
   "cell_type": "code",
   "execution_count": null,
   "metadata": {},
   "outputs": [],
   "source": []
  }
 ],
 "metadata": {
  "kernelspec": {
   "display_name": "Python 3",
   "language": "python",
   "name": "python3"
  },
  "language_info": {
   "codemirror_mode": {
    "name": "ipython",
    "version": 3
   },
   "file_extension": ".py",
   "mimetype": "text/x-python",
   "name": "python",
   "nbconvert_exporter": "python",
   "pygments_lexer": "ipython3",
   "version": "3.7.6"
  }
 },
 "nbformat": 4,
 "nbformat_minor": 4
}
